{
 "cells": [
  {
   "cell_type": "code",
   "execution_count": 1,
   "metadata": {},
   "outputs": [],
   "source": [
    "import pandas as pd\n",
    "import numpy as np\n",
    "import seaborn as sns\n",
    "import matplotlib.pyplot as plt\n",
    "import pandas_profiling as pp\n",
    "import scipy.stats as stats\n",
    "from sklearn import metrics\n",
    "from sklearn.linear_model import LinearRegression, LassoCV, RidgeCV, Ridge, Lasso\n",
    "from sklearn.preprocessing import PolynomialFeatures, StandardScaler\n",
    "from sklearn.model_selection import train_test_split, cross_val_score, cross_val_predict\n",
    "from sklearn.metrics import r2_score\n",
    "from sklearn.metrics import mean_squared_error\n",
    "from math import sqrt\n",
    "\n",
    "\n",
    "%matplotlib inline"
   ]
  },
  {
   "cell_type": "code",
   "execution_count": 2,
   "metadata": {},
   "outputs": [],
   "source": [
    "#I want to experiment with throwing a lot of variables at the model"
   ]
  },
  {
   "cell_type": "code",
   "execution_count": 3,
   "metadata": {},
   "outputs": [],
   "source": [
    "pd.set_option('display.max_columns', 999)"
   ]
  },
  {
   "cell_type": "code",
   "execution_count": 4,
   "metadata": {},
   "outputs": [],
   "source": [
    "train = pd.read_csv('../datasets/train_clean.csv')"
   ]
  },
  {
   "cell_type": "code",
   "execution_count": 5,
   "metadata": {},
   "outputs": [],
   "source": [
    "test = pd.read_csv('../datasets/test_clean.csv')"
   ]
  },
  {
   "cell_type": "code",
   "execution_count": 6,
   "metadata": {},
   "outputs": [
    {
     "data": {
      "text/plain": [
       "{dtype('int64'): Index(['id', 'pid', 'lot_area', 'overall_qual', 'overall_cond', 'year_built',\n",
       "        'year_remod_add', '1st_flr_sf', '2nd_flr_sf', 'gr_liv_area',\n",
       "        'full_bath', 'half_bath', 'bedroom_abvgr', 'totrms_abvgrd',\n",
       "        'fireplaces', 'wood_deck_sf', 'open_porch_sf', 'enclosed_porch',\n",
       "        '3ssn_porch', 'screen_porch', 'mo_sold', 'yr_sold', 'saleprice',\n",
       "        'house_age', 'remod_years', 'tot_outdoor'],\n",
       "       dtype='object'),\n",
       " dtype('float64'): Index(['lot_frontage', 'mas_vnr_area', 'total_bsmt_sf', 'bsmt_full_bath',\n",
       "        'bsmt_half_bath', 'garage_yr_blt', 'garage_cars', 'garage_area',\n",
       "        'tot_bath'],\n",
       "       dtype='object'),\n",
       " dtype('O'): Index(['ms_zoning', 'lot_shape', 'lot_config', 'neighborhood', 'bldg_type',\n",
       "        'house_style', 'roof_style', 'exterior_1st', 'exterior_2nd',\n",
       "        'mas_vnr_type', 'exter_qual', 'foundation', 'bsmt_qual',\n",
       "        'bsmtfin_type_1', 'bsmtfin_type_2', 'heating_qc', 'kitchen_qual',\n",
       "        'garage_type', 'garage_finish', 'paved_drive', 'fence'],\n",
       "       dtype='object')}"
      ]
     },
     "execution_count": 6,
     "metadata": {},
     "output_type": "execute_result"
    }
   ],
   "source": [
    "train.columns.to_series().groupby(train.dtypes).groups"
   ]
  },
  {
   "cell_type": "code",
   "execution_count": 7,
   "metadata": {},
   "outputs": [],
   "source": [
    "features =['lot_area', 'overall_qual', 'overall_cond', 'year_built',\n",
    "        'year_remod_add', '1st_flr_sf', '2nd_flr_sf', 'gr_liv_area',\n",
    "        'full_bath', 'half_bath', 'bedroom_abvgr', 'totrms_abvgrd',\n",
    "        'fireplaces', 'wood_deck_sf', 'open_porch_sf', 'enclosed_porch',\n",
    "        '3ssn_porch', 'screen_porch', 'mo_sold', 'yr_sold', 'lot_frontage',\n",
    "        'mas_vnr_area', 'total_bsmt_sf', 'bsmt_full_bath',\n",
    "        'bsmt_half_bath', 'garage_yr_blt', 'garage_cars', 'garage_area']"
   ]
  },
  {
   "cell_type": "code",
   "execution_count": null,
   "metadata": {},
   "outputs": [],
   "source": [
    "X_train = train[features]\n",
    "X_test = test[features]\n",
    "y_train_overfit = train['saleprice']"
   ]
  },
  {
   "cell_type": "code",
   "execution_count": null,
   "metadata": {},
   "outputs": [],
   "source": [
    "#Create PolynomialFeatures"
   ]
  },
  {
   "cell_type": "code",
   "execution_count": null,
   "metadata": {},
   "outputs": [],
   "source": [
    "poly= PolynomialFeatures(degree=2, interaction_only=False, include_bias=False)\n",
    "\n",
    "#instatiate a model"
   ]
  },
  {
   "cell_type": "code",
   "execution_count": null,
   "metadata": {},
   "outputs": [],
   "source": [
    "X_train_overfit = poly.fit_transform(X_train)\n",
    "X_test_overfit = poly.fit_transform(X_test)"
   ]
  },
  {
   "cell_type": "code",
   "execution_count": null,
   "metadata": {},
   "outputs": [],
   "source": [
    "ss = StandardScaler()\n",
    "ss.fit(X_train)\n",
    "\n",
    "X_train_sc = ss.transform(X_train)\n",
    "X_test_sc = ss.transform(X_test)"
   ]
  },
  {
   "cell_type": "code",
   "execution_count": null,
   "metadata": {},
   "outputs": [],
   "source": []
  }
 ],
 "metadata": {
  "kernelspec": {
   "display_name": "Python 3",
   "language": "python",
   "name": "python3"
  },
  "language_info": {
   "codemirror_mode": {
    "name": "ipython",
    "version": 3
   },
   "file_extension": ".py",
   "mimetype": "text/x-python",
   "name": "python",
   "nbconvert_exporter": "python",
   "pygments_lexer": "ipython3",
   "version": "3.7.3"
  }
 },
 "nbformat": 4,
 "nbformat_minor": 2
}
