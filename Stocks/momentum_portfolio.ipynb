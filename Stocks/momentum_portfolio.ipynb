{
 "cells": [
  {
   "cell_type": "markdown",
   "id": "lyric-graduation",
   "metadata": {},
   "source": [
    "This is a momentum based portfolio using the tickers from the Russell 2000 ETF (IWM)"
   ]
  },
  {
   "cell_type": "code",
   "execution_count": 1,
   "id": "connected-breeding",
   "metadata": {},
   "outputs": [],
   "source": [
    "#import packages\n",
    "import numpy as np\n",
    "import pandas as pd\n",
    "import requests\n",
    "import xlsxwriter\n",
    "import math\n",
    "from scipy import stats\n",
    "from statistics import mean\n",
    "import warnings\n",
    "warnings.filterwarnings('ignore')"
   ]
  },
  {
   "cell_type": "code",
   "execution_count": 2,
   "id": "alone-glasgow",
   "metadata": {},
   "outputs": [],
   "source": [
    "#read in tickers\n",
    "stocks = pd.read_csv('russ_tickers.csv')"
   ]
  },
  {
   "cell_type": "code",
   "execution_count": 3,
   "id": "metropolitan-wiring",
   "metadata": {},
   "outputs": [],
   "source": [
    "#this is a common Sandbox API for the IEX Cloud\n",
    "#It will pull in stale data\n",
    "IEX_CLOUD_API_TOKEN = 'Tpk_059b97af715d417d9f49f50b51b1c448'"
   ]
  },
  {
   "cell_type": "code",
   "execution_count": 4,
   "id": "sonic-candy",
   "metadata": {},
   "outputs": [],
   "source": [
    "#create columns for the data frame\n",
    "columns = [\n",
    "                'Ticker', 'Company Name',  \n",
    "                'One-Year Price Return', \n",
    "                'One-Year Return Percentile',\n",
    "                'Six-Month Price Return',\n",
    "                'Six-Month Return Percentile',\n",
    "                'Three-Month Price Return',\n",
    "                'Three-Month Return Percentile',\n",
    "                'One-Month Price Return',\n",
    "                'One-Month Return Percentile',\n",
    "                'Score','Price','Number of Shares to Buy','Position Value'\n",
    "                ]"
   ]
  },
  {
   "cell_type": "code",
   "execution_count": 5,
   "id": "current-prevention",
   "metadata": {},
   "outputs": [
    {
     "data": {
      "text/html": [
       "<div>\n",
       "<style scoped>\n",
       "    .dataframe tbody tr th:only-of-type {\n",
       "        vertical-align: middle;\n",
       "    }\n",
       "\n",
       "    .dataframe tbody tr th {\n",
       "        vertical-align: top;\n",
       "    }\n",
       "\n",
       "    .dataframe thead th {\n",
       "        text-align: right;\n",
       "    }\n",
       "</style>\n",
       "<table border=\"1\" class=\"dataframe\">\n",
       "  <thead>\n",
       "    <tr style=\"text-align: right;\">\n",
       "      <th></th>\n",
       "      <th>Ticker</th>\n",
       "      <th>Company Name</th>\n",
       "      <th>One-Year Price Return</th>\n",
       "      <th>One-Year Return Percentile</th>\n",
       "      <th>Six-Month Price Return</th>\n",
       "      <th>Six-Month Return Percentile</th>\n",
       "      <th>Three-Month Price Return</th>\n",
       "      <th>Three-Month Return Percentile</th>\n",
       "      <th>One-Month Price Return</th>\n",
       "      <th>One-Month Return Percentile</th>\n",
       "      <th>Score</th>\n",
       "      <th>Price</th>\n",
       "      <th>Number of Shares to Buy</th>\n",
       "      <th>Position Value</th>\n",
       "    </tr>\n",
       "  </thead>\n",
       "  <tbody>\n",
       "  </tbody>\n",
       "</table>\n",
       "</div>"
      ],
      "text/plain": [
       "Empty DataFrame\n",
       "Columns: [Ticker, Company Name, One-Year Price Return, One-Year Return Percentile, Six-Month Price Return, Six-Month Return Percentile, Three-Month Price Return, Three-Month Return Percentile, One-Month Price Return, One-Month Return Percentile, Score, Price, Number of Shares to Buy, Position Value]\n",
       "Index: []"
      ]
     },
     "execution_count": 5,
     "metadata": {},
     "output_type": "execute_result"
    }
   ],
   "source": [
    "df = pd.DataFrame(columns = columns)\n",
    "df"
   ]
  },
  {
   "cell_type": "code",
   "execution_count": 6,
   "id": "varying-blond",
   "metadata": {},
   "outputs": [],
   "source": [
    "#This function will break the list of tickers into smaller lists\n",
    "#The API works quicker when this is are broken into smaller pieces\n",
    "def chunks(lst, n):\n",
    "    for i in range(0, len(lst), n):\n",
    "        yield lst[i:i + n]"
   ]
  },
  {
   "cell_type": "code",
   "execution_count": 7,
   "id": "prime-roads",
   "metadata": {},
   "outputs": [],
   "source": [
    "#create the smaller lists of tickers\n",
    "symbol_groups = list(chunks(stocks['Ticker'], 100))\n",
    "symbol_strings = []\n",
    "for i in range(0, len(symbol_groups)):\n",
    "    symbol_strings.append(','.join(symbol_groups[i]))"
   ]
  },
  {
   "cell_type": "code",
   "execution_count": null,
   "id": "separated-steal",
   "metadata": {},
   "outputs": [],
   "source": [
    "#retreive the data\n",
    "for symbol_string in symbol_strings:\n",
    "    batch_api_call_url = f'https://sandbox.iexapis.com/stable/stock/market/batch/?types=stats,quote&symbols={symbol_string}&token={IEX_CLOUD_API_TOKEN}'\n",
    "    data = requests.get(batch_api_call_url).json()\n",
    "    for symbol in symbol_string.split(','):\n",
    "        df = df.append(\n",
    "                                                   pd.Series([symbol, data[symbol]['quote']['companyName'],\n",
    "                                                   data[symbol]['stats']['year1ChangePercent'],\n",
    "                                                   'N/A',\n",
    "                                                   data[symbol]['stats']['month6ChangePercent'],\n",
    "                                                   'N/A',\n",
    "                                                   data[symbol]['stats']['month3ChangePercent'],\n",
    "                                                   'N/A',\n",
    "                                                   data[symbol]['stats']['month1ChangePercent'],\n",
    "                                                   'N/A',\n",
    "                                                   'N/A',\n",
    "                                                   data[symbol]['quote']['latestPrice'],\n",
    "                                                    'N/A',\n",
    "                                                    'N/A' \n",
    "                                                   ],\n",
    "                                                  index = columns), \n",
    "                                        ignore_index = True)\n",
    "        \n",
    "df.head()"
   ]
  },
  {
   "cell_type": "code",
   "execution_count": null,
   "id": "norwegian-absence",
   "metadata": {},
   "outputs": [],
   "source": [
    "#calculate and populate the percentile return columns\n",
    "periods = [\n",
    "                'One-Year',\n",
    "                'Six-Month',\n",
    "                'Three-Month',\n",
    "                'One-Month'\n",
    "                ]\n",
    "\n",
    "for row in df.index:\n",
    "    for period in periods:\n",
    "        df.loc[row, f'{period} Return Percentile'] = stats.percentileofscore(df[f'{period} Price Return'],\n",
    "        df.loc[row, f'{period} Price Return'])/100\n",
    "\n",
    "\n",
    "df.head()"
   ]
  },
  {
   "cell_type": "code",
   "execution_count": null,
   "id": "presidential-nowhere",
   "metadata": {},
   "outputs": [],
   "source": [
    "#create a score for each stock\n",
    "for row in df.index:\n",
    "    percentiles = []\n",
    "    for period in periods:\n",
    "        percentiles.append(df.loc[row, f'{period} Return Percentile'])\n",
    "    df.loc[row, 'Score'] = mean(percentiles)\n",
    "\n",
    "df.head()"
   ]
  },
  {
   "cell_type": "code",
   "execution_count": null,
   "id": "honey-playing",
   "metadata": {},
   "outputs": [],
   "source": [
    "#sort the stocks by score\n",
    "df.sort_values(by = 'Score', ascending = False, inplace = True)\n",
    "#create a new dataframe with just the top 100 stocks\n",
    "df = df[:101]\n",
    "df.reset_index(drop = True, inplace = True)\n",
    "df.head()"
   ]
  },
  {
   "cell_type": "code",
   "execution_count": null,
   "id": "cathedral-latest",
   "metadata": {},
   "outputs": [],
   "source": [
    "#Function that will ask for the dollar size of the portfolio to build.\n",
    "def portfolio_input():\n",
    "    global portfolio_size\n",
    "    portfolio_size = input(\"Enter the value of your portfolio:\")\n",
    "\n",
    "    try:\n",
    "        val = float(portfolio_size)\n",
    "    except ValueError:\n",
    "        print(\"That's not a number! \\n Try again:\")\n",
    "        portfolio_size = input(\"Enter the value of your portfolio:\")"
   ]
  },
  {
   "cell_type": "code",
   "execution_count": null,
   "id": "surprising-malaysia",
   "metadata": {},
   "outputs": [],
   "source": [
    "portfolio_input()"
   ]
  },
  {
   "cell_type": "code",
   "execution_count": null,
   "id": "employed-bride",
   "metadata": {},
   "outputs": [],
   "source": [
    "#calculate the number of shares to buy and value of the position\n",
    "position_size = float(portfolio_size) / len(df.index)\n",
    "for i in range(0, len(df['Ticker'])):\n",
    "    df.loc[i, 'Number of Shares to Buy'] = math.floor(position_size / df['Price'][i])\n",
    "    \n",
    "df['Position Value'] = df['Number of Shares to Buy']*df['Price']\n",
    "df.head()"
   ]
  },
  {
   "cell_type": "code",
   "execution_count": null,
   "id": "enabling-bruce",
   "metadata": {},
   "outputs": [],
   "source": [
    "df.tail()"
   ]
  },
  {
   "cell_type": "code",
   "execution_count": null,
   "id": "chronic-following",
   "metadata": {},
   "outputs": [],
   "source": [
    "df['Price']= df['Price'].astype(float).round(2)\n",
    "df['Score']= df['Score'].astype(float).round(2)\n",
    "df['Position Value']= df['Position Value'].astype(float).round(2)\n",
    "for row in df.index:\n",
    "    for period in periods:\n",
    "        df[f'{period} Return Percentile'] = df[f'{period} Return Percentile'].astype(float).round(4)\n",
    "        df[f'{period} Price Return'] = df[f'{period} Price Return'].astype(float).round(4)\n",
    "df.head()"
   ]
  },
  {
   "cell_type": "code",
   "execution_count": null,
   "id": "talented-kitty",
   "metadata": {},
   "outputs": [],
   "source": [
    "#write the dataframe to an Excel file\n",
    "writer = pd.ExcelWriter('momentum.xlsx', engine='xlsxwriter')\n",
    "final_df = df\n",
    "final_df.to_excel(writer, sheet_name='Momentum', index = False)\n",
    "final_df.head()"
   ]
  },
  {
   "cell_type": "code",
   "execution_count": null,
   "id": "portuguese-oriental",
   "metadata": {},
   "outputs": [],
   "source": [
    "#formating for the Excel sheet\n",
    "background_color = 'white'\n",
    "font_color = 'black'\n",
    "\n",
    "\n",
    "string_format = writer.book.add_format(\n",
    "        {\n",
    "            'font_color': font_color,\n",
    "            'bg_color': background_color,\n",
    "            'border': 1\n",
    "        }\n",
    "    )\n",
    "\n",
    "dollar_format = writer.book.add_format(\n",
    "        {\n",
    "            'num_format':'$#,#.00',\n",
    "            'font_color': font_color,\n",
    "            'bg_color': background_color,\n",
    "            'border': 1\n",
    "        }\n",
    "    )\n",
    "\n",
    "percent_format = writer.book.add_format(\n",
    "        {\n",
    "            'num_format':'#,#.00%',\n",
    "            'font_color': font_color,\n",
    "            'bg_color': background_color,\n",
    "            'border': 1\n",
    "        }\n",
    "    )\n",
    "\n",
    "integer_format = writer.book.add_format(\n",
    "        {\n",
    "            'num_format':'#,#00',\n",
    "            'font_color': font_color,\n",
    "            'bg_color': background_color,\n",
    "            'border': 1\n",
    "        }\n",
    "    )"
   ]
  },
  {
   "cell_type": "code",
   "execution_count": null,
   "id": "useful-charm",
   "metadata": {},
   "outputs": [],
   "source": [
    "#formate the Excel columns\n",
    "column_formats = { \n",
    "                    'A': ['Ticker', string_format],\n",
    "                    'B': ['Company Name', string_format],\n",
    "                    'C': ['One-Year Price Return', percent_format],\n",
    "                    'D': ['One-Year Return Percentile', percent_format],\n",
    "                    'E': ['Six-Month Price Return', percent_format],\n",
    "                    'F': ['Six-Month Return Percentile', percent_format],\n",
    "                    'G': ['Three-Month Price Return', percent_format],\n",
    "                    'H': ['Three-Month Return Percentile', percent_format],\n",
    "                    'I': ['One-Month Price Return', percent_format],\n",
    "                    'J': ['One-Month Return Percentile', percent_format],\n",
    "                    'K': ['Score', integer_format],\n",
    "                    'L': ['Price', dollar_format],\n",
    "                    'M': ['Number of Shares to Buy', integer_format],\n",
    "                    'N': ['Position Value', dollar_format]\n",
    "                    }"
   ]
  },
  {
   "cell_type": "code",
   "execution_count": null,
   "id": "equal-challenge",
   "metadata": {},
   "outputs": [],
   "source": [
    "for column in column_formats.keys():\n",
    "    writer.sheets['Momentum'].set_column(f'{column}:{column}', 20, column_formats[column][1])\n",
    "    writer.sheets['Momentum'].write(f'{column}1', column_formats[column][0], string_format)"
   ]
  },
  {
   "cell_type": "code",
   "execution_count": null,
   "id": "stretch-middle",
   "metadata": {},
   "outputs": [],
   "source": [
    "writer.save()"
   ]
  },
  {
   "cell_type": "code",
   "execution_count": null,
   "id": "inappropriate-oklahoma",
   "metadata": {},
   "outputs": [],
   "source": []
  }
 ],
 "metadata": {
  "kernelspec": {
   "display_name": "Python 3",
   "language": "python",
   "name": "python3"
  },
  "language_info": {
   "codemirror_mode": {
    "name": "ipython",
    "version": 3
   },
   "file_extension": ".py",
   "mimetype": "text/x-python",
   "name": "python",
   "nbconvert_exporter": "python",
   "pygments_lexer": "ipython3",
   "version": "3.7.0"
  }
 },
 "nbformat": 4,
 "nbformat_minor": 5
}
