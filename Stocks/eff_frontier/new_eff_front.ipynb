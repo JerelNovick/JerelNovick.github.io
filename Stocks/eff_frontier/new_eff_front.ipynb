{
 "cells": [
  {
   "cell_type": "code",
   "execution_count": null,
   "id": "chronic-arctic",
   "metadata": {},
   "outputs": [],
   "source": [
    "import pandas as pd\n",
    "from pandas_datareader import data as pdr\n",
    "import yfinance as yf\n",
    "import numpy as np\n",
    "import datetime as dt\n",
    "import matplotlib.pyplot as plt\n",
    "import seaborn as sns\n",
    "import scipy.stats as stats\n",
    "plt.style.use('seaborn-colorblind')  \n",
    "%matplotlib inline"
   ]
  },
  {
   "cell_type": "code",
   "execution_count": null,
   "id": "verbal-filename",
   "metadata": {},
   "outputs": [],
   "source": [
    "tickers = ['SPY','BND', 'GLD']"
   ]
  },
  {
   "cell_type": "code",
   "execution_count": null,
   "id": "physical-latin",
   "metadata": {},
   "outputs": [],
   "source": [
    "start = dt.datetime(2020,1,1)\n",
    "end = dt.datetime(2020,12,31)"
   ]
  },
  {
   "cell_type": "code",
   "execution_count": null,
   "id": "annual-nature",
   "metadata": {},
   "outputs": [],
   "source": [
    "data = pd.DataFrame(yf.download(tickers, start, end)['Close'])"
   ]
  },
  {
   "cell_type": "code",
   "execution_count": null,
   "id": "breathing-income",
   "metadata": {},
   "outputs": [],
   "source": [
    "data.shape"
   ]
  },
  {
   "cell_type": "code",
   "execution_count": null,
   "id": "dominant-weekend",
   "metadata": {},
   "outputs": [],
   "source": [
    "returns = data.pct_change()"
   ]
  },
  {
   "cell_type": "code",
   "execution_count": null,
   "id": "sharing-silicon",
   "metadata": {},
   "outputs": [],
   "source": [
    "returns"
   ]
  },
  {
   "cell_type": "code",
   "execution_count": null,
   "id": "plain-million",
   "metadata": {},
   "outputs": [],
   "source": [
    "def portfolio_annualized_performance(weights, mean_returns, cov_matrix):\n",
    "    returns = np.sum(mean_returns*weights ) *252\n",
    "    std = np.sqrt(np.dot(weights.T, np.dot(cov_matrix, weights))) * np.sqrt(252)\n",
    "    return std, returns"
   ]
  },
  {
   "cell_type": "code",
   "execution_count": null,
   "id": "determined-harvard",
   "metadata": {},
   "outputs": [],
   "source": [
    "def generate_random_portfolios(num_portfolios, mean_returns, cov_matrix, risk_free_rate):\n",
    "    results = np.zeros((3,num_portfolios))\n",
    "    weight_array = []\n",
    "    for i in range(num_portfolios):\n",
    "        # Randomly assign weights\n",
    "        weights = np.random.random(len(tickers))\n",
    "        # Convert the randomized weights (summing to 100)\n",
    "        weights /= np.sum(weights)\n",
    "        weight_array.append(weights)\n",
    "        # calculate the standard deviation, returns using \n",
    "        # the weights, mean returns\n",
    "        portfolio_std_dev, portfolio_return = portfolio_annualized_performance(weights, mean_returns, cov_matrix)\n",
    "        results[0,i] = portfolio_std_dev\n",
    "        results[1,i] = portfolio_return\n",
    "        results[2,i] = (portfolio_return - risk_free_rate) / portfolio_std_dev\n",
    "    return results, weight_array"
   ]
  },
  {
   "cell_type": "code",
   "execution_count": null,
   "id": "lonely-consensus",
   "metadata": {},
   "outputs": [],
   "source": [
    "returns = data.pct_change()\n",
    "mean_returns = returns.mean()\n",
    "cov_matrix = returns.cov()\n",
    "num_portfolios = 10000\n",
    "risk_free_rate = 0.018"
   ]
  },
  {
   "cell_type": "code",
   "execution_count": null,
   "id": "refined-junction",
   "metadata": {},
   "outputs": [],
   "source": [
    "returns_corr=round((returns.corr()),2)"
   ]
  },
  {
   "cell_type": "code",
   "execution_count": null,
   "id": "christian-parker",
   "metadata": {},
   "outputs": [],
   "source": [
    "returns_corr"
   ]
  },
  {
   "cell_type": "code",
   "execution_count": null,
   "id": "gross-casting",
   "metadata": {},
   "outputs": [],
   "source": [
    "#correlation matrix\n",
    "sns.set(style=\"white\")\n",
    "mask = np.zeros_like(returns_corr.corr(), dtype=np.bool)\n",
    "mask[np.triu_indices_from(mask)] = True\n",
    "plt.subplots(figsize=(15,15))\n",
    "sns.set(font_scale=2)\n",
    "sns.heatmap(returns_corr, xticklabels=returns_corr.columns.values,\n",
    "            yticklabels=returns_corr.columns.values,mask=mask, cmap = 'coolwarm', annot= True, square=True)\n",
    "plt.yticks(rotation=0,fontsize = 15)\n",
    "plt.xticks(rotation=90,fontsize = 15);"
   ]
  },
  {
   "cell_type": "code",
   "execution_count": null,
   "id": "permanent-coaching",
   "metadata": {},
   "outputs": [],
   "source": [
    "def display_simulated_portfolios(mean_returns, cov_matrix, num_portfolios, risk_free_rate):\n",
    "    results, weights = generate_random_portfolios(num_portfolios,mean_returns, cov_matrix, risk_free_rate)\n",
    "    \n",
    "    # max portfolio Sharpe ratio \n",
    "    max_sharpe_idx = np.argmax(results[2])\n",
    "\n",
    "    # pull the associated standard deviation, annualized return w/ the max Sharpe ratio\n",
    "    stdev_portfolio, returns_portfolio = results[0,max_sharpe_idx], results[1,max_sharpe_idx]\n",
    "\n",
    "    # pull the allocation associated with max Sharpe ratio\n",
    "    max_sharpe_allocation = pd.DataFrame(weights[max_sharpe_idx],index=data.columns,columns=['allocation'])\n",
    "    max_sharpe_allocation.allocation = [round(i*100,2)for i in max_sharpe_allocation.allocation]\n",
    "    max_sharpe_allocation = max_sharpe_allocation.T\n",
    "    \n",
    "    print(\"-\"*100)\n",
    "    print(\"Portfolio at maximum Sharpe Ratio\\n\")\n",
    "    print(\"--Returns, volatility--\\n\")\n",
    "    print(\"Annualized Return:\", round(returns_portfolio,2))\n",
    "    print(\"Annualized Volatility:\", round(stdev_portfolio,2))\n",
    "    \n",
    "    print(\"\\n\")\n",
    "    print(\"--Allocation at max Sharpe ratio--\\n\")\n",
    "    print(max_sharpe_allocation)\n",
    "    print(\"-\"*100)\n",
    "    \n",
    "    plt.figure(figsize=(16, 9))\n",
    "    # x = volatility, y = annualized return, color mapping = sharpe ratio\n",
    "    plt.scatter(results[0,:],results[1,:],c=results[2,:], cmap='winter', marker='o', s=10, alpha=0.3)\n",
    "    plt.colorbar()\n",
    "    # Mark the portfolio w/ max Sharpe ratio\n",
    "    plt.scatter(stdev_portfolio, returns_portfolio, marker='x',color='r',s=150, label='Max Sharpe ratio')\n",
    "    plt.title('Simulated portfolios illustrating efficient frontier')\n",
    "    plt.xlabel('annualized volatility')\n",
    "    plt.ylabel('annualized returns')\n",
    "    plt.legend(labelspacing=1.2)\n",
    "\n",
    "display_simulated_portfolios(mean_returns, cov_matrix, num_portfolios, risk_free_rate)"
   ]
  },
  {
   "cell_type": "code",
   "execution_count": null,
   "id": "fresh-jesus",
   "metadata": {},
   "outputs": [],
   "source": []
  }
 ],
 "metadata": {
  "kernelspec": {
   "display_name": "Python 3",
   "language": "python",
   "name": "python3"
  },
  "language_info": {
   "codemirror_mode": {
    "name": "ipython",
    "version": 3
   },
   "file_extension": ".py",
   "mimetype": "text/x-python",
   "name": "python",
   "nbconvert_exporter": "python",
   "pygments_lexer": "ipython3",
   "version": "3.7.0"
  }
 },
 "nbformat": 4,
 "nbformat_minor": 5
}
