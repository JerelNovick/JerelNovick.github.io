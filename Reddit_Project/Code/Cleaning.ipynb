{
 "cells": [
  {
   "cell_type": "code",
   "execution_count": 1,
   "metadata": {},
   "outputs": [],
   "source": [
    "import pandas as pd\n",
    "import os\n",
    "import glob\n",
    "import numpy as np\n",
    "import regex as re"
   ]
  },
  {
   "cell_type": "markdown",
   "metadata": {},
   "source": [
    "# Combined The csv's Into One File"
   ]
  },
  {
   "cell_type": "code",
   "execution_count": 4,
   "metadata": {},
   "outputs": [
    {
     "name": "stdout",
     "output_type": "stream",
     "text": [
      "DadJokes10.csv\n",
      "Jokes10.csv\n",
      "Jokes11.csv\n",
      "DadJokes11.csv\n",
      "DadJokes13.csv\n",
      "Jokes13.csv\n",
      "Jokes12.csv\n",
      "DadJokes12.csv\n",
      "DadJokes16.csv\n",
      "Jokes16.csv\n",
      "Jokes17.csv\n",
      "DadJokes17.csv\n",
      "DadJokes15.csv\n",
      "Jokes15.csv\n",
      "Jokes14.csv\n",
      "DadJokes14.csv\n",
      "Jokes2.csv\n",
      "DadJokes2.csv\n",
      "DadJokes3.csv\n",
      "Jokes3.csv\n",
      "Jokes.csv\n",
      "Jokes4.csv\n",
      "DadJokes4.csv\n",
      "DadJokes5.csv\n",
      "Jokes5.csv\n",
      "Jokes7.csv\n",
      "DadJokes7.csv\n",
      "DadJokes6.csv\n",
      "Jokes6.csv\n",
      "Jokes8.csv\n",
      "DadJokes8.csv\n",
      "DadJokes9.csv\n",
      "Jokes9.csv\n",
      "DadJokes.csv\n"
     ]
    }
   ],
   "source": [
    "#Concat all of the csv's into one file\n",
    "#Based on code I Googled\n",
    "os.chdir(\"../data\")\n",
    "results = pd.DataFrame([])\n",
    " \n",
    "for counter, file in enumerate(glob.glob(\"*Jokes*\")):\n",
    "    namedf = pd.read_csv(file, skiprows=0, usecols=[0,1,2,3,4,5])\n",
    "    results = results.append(namedf)\n",
    "    print(file)\n",
    " \n",
    "results.to_csv('../data/concat.csv',index=False)"
   ]
  },
  {
   "cell_type": "markdown",
   "metadata": {},
   "source": [
    "# Read In New Combined CSV's Into Dataframes"
   ]
  },
  {
   "cell_type": "code",
   "execution_count": 5,
   "metadata": {},
   "outputs": [],
   "source": [
    "#Assign csv to dataframe\n",
    "df_all = pd.read_csv('../data/concat.csv')"
   ]
  },
  {
   "cell_type": "code",
   "execution_count": 6,
   "metadata": {},
   "outputs": [
    {
     "data": {
      "text/html": [
       "<div>\n",
       "<style scoped>\n",
       "    .dataframe tbody tr th:only-of-type {\n",
       "        vertical-align: middle;\n",
       "    }\n",
       "\n",
       "    .dataframe tbody tr th {\n",
       "        vertical-align: top;\n",
       "    }\n",
       "\n",
       "    .dataframe thead th {\n",
       "        text-align: right;\n",
       "    }\n",
       "</style>\n",
       "<table border=\"1\" class=\"dataframe\">\n",
       "  <thead>\n",
       "    <tr style=\"text-align: right;\">\n",
       "      <th></th>\n",
       "      <th>id</th>\n",
       "      <th>num_comments</th>\n",
       "      <th>subreddit</th>\n",
       "      <th>text</th>\n",
       "      <th>time_created</th>\n",
       "      <th>title</th>\n",
       "    </tr>\n",
       "  </thead>\n",
       "  <tbody>\n",
       "    <tr>\n",
       "      <th>0</th>\n",
       "      <td>t3_azu6ko</td>\n",
       "      <td>495</td>\n",
       "      <td>Jokes</td>\n",
       "      <td>One day, a wife came home early and found her ...</td>\n",
       "      <td>1552315082</td>\n",
       "      <td>A wife came home early and...</td>\n",
       "    </tr>\n",
       "    <tr>\n",
       "      <th>1</th>\n",
       "      <td>t3_bvxeu4</td>\n",
       "      <td>30</td>\n",
       "      <td>Jokes</td>\n",
       "      <td>One is a superhero and the other is a command.</td>\n",
       "      <td>1559482488</td>\n",
       "      <td>What's the difference between Iron Man and Iro...</td>\n",
       "    </tr>\n",
       "    <tr>\n",
       "      <th>2</th>\n",
       "      <td>t3_c2q2v7</td>\n",
       "      <td>20</td>\n",
       "      <td>Jokes</td>\n",
       "      <td>As the days go by he gets hornier and hornier ...</td>\n",
       "      <td>1560996486</td>\n",
       "      <td>A guy gets lost in the desert, he has food, wa...</td>\n",
       "    </tr>\n",
       "    <tr>\n",
       "      <th>3</th>\n",
       "      <td>t3_c3jq7l</td>\n",
       "      <td>9</td>\n",
       "      <td>Jokes</td>\n",
       "      <td>There once was a man named John. John has thre...</td>\n",
       "      <td>1561168425</td>\n",
       "      <td>This is the story of Nate the Snake and John.</td>\n",
       "    </tr>\n",
       "    <tr>\n",
       "      <th>4</th>\n",
       "      <td>t3_c617yr</td>\n",
       "      <td>137</td>\n",
       "      <td>dadjokes</td>\n",
       "      <td>It's thinly sliced cabbage</td>\n",
       "      <td>1561611223</td>\n",
       "      <td>If you've heard of Murphy's law, which is that...</td>\n",
       "    </tr>\n",
       "  </tbody>\n",
       "</table>\n",
       "</div>"
      ],
      "text/plain": [
       "          id  num_comments subreddit  \\\n",
       "0  t3_azu6ko           495     Jokes   \n",
       "1  t3_bvxeu4            30     Jokes   \n",
       "2  t3_c2q2v7            20     Jokes   \n",
       "3  t3_c3jq7l             9     Jokes   \n",
       "4  t3_c617yr           137  dadjokes   \n",
       "\n",
       "                                                text  time_created  \\\n",
       "0  One day, a wife came home early and found her ...    1552315082   \n",
       "1     One is a superhero and the other is a command.    1559482488   \n",
       "2  As the days go by he gets hornier and hornier ...    1560996486   \n",
       "3  There once was a man named John. John has thre...    1561168425   \n",
       "4                         It's thinly sliced cabbage    1561611223   \n",
       "\n",
       "                                               title  \n",
       "0                      A wife came home early and...  \n",
       "1  What's the difference between Iron Man and Iro...  \n",
       "2  A guy gets lost in the desert, he has food, wa...  \n",
       "3      This is the story of Nate the Snake and John.  \n",
       "4  If you've heard of Murphy's law, which is that...  "
      ]
     },
     "execution_count": 6,
     "metadata": {},
     "output_type": "execute_result"
    }
   ],
   "source": [
    "#Examined the head of the dataframe\n",
    "df_all.head()"
   ]
  },
  {
   "cell_type": "code",
   "execution_count": 7,
   "metadata": {},
   "outputs": [
    {
     "name": "stdout",
     "output_type": "stream",
     "text": [
      "Total Combined Posts 35829\n"
     ]
    }
   ],
   "source": [
    "#Print total posts\n",
    "print('Total Combined Posts', len(df_all))"
   ]
  },
  {
   "cell_type": "code",
   "execution_count": 8,
   "metadata": {},
   "outputs": [],
   "source": [
    "#Remove duplicate posts\n",
    "df_all = df_all.iloc[df_all[[\"id\"]].drop_duplicates().index]"
   ]
  },
  {
   "cell_type": "code",
   "execution_count": 9,
   "metadata": {},
   "outputs": [
    {
     "name": "stdout",
     "output_type": "stream",
     "text": [
      "Total Combined Posts 4157\n"
     ]
    }
   ],
   "source": [
    "#Print total post after duplicates are removed\n",
    "print('Total Combined Posts', len(df_all))"
   ]
  },
  {
   "cell_type": "code",
   "execution_count": 10,
   "metadata": {},
   "outputs": [
    {
     "name": "stdout",
     "output_type": "stream",
     "text": [
      "<class 'pandas.core.frame.DataFrame'>\n",
      "Int64Index: 4157 entries, 0 to 35828\n",
      "Data columns (total 6 columns):\n",
      "id              4157 non-null object\n",
      "num_comments    4157 non-null int64\n",
      "subreddit       4157 non-null object\n",
      "text            4062 non-null object\n",
      "time_created    4157 non-null int64\n",
      "title           4157 non-null object\n",
      "dtypes: int64(2), object(4)\n",
      "memory usage: 227.3+ KB\n"
     ]
    }
   ],
   "source": [
    "#Ran to see if there are nulls and how each column is classified\n",
    "df_all.info()"
   ]
  },
  {
   "cell_type": "code",
   "execution_count": 11,
   "metadata": {},
   "outputs": [],
   "source": [
    "#Replaced nulls with blanks\n",
    "df_all.replace(np.nan, \"\", inplace=True)"
   ]
  },
  {
   "cell_type": "code",
   "execution_count": 12,
   "metadata": {},
   "outputs": [
    {
     "name": "stdout",
     "output_type": "stream",
     "text": [
      "<class 'pandas.core.frame.DataFrame'>\n",
      "Int64Index: 4157 entries, 0 to 35828\n",
      "Data columns (total 6 columns):\n",
      "id              4157 non-null object\n",
      "num_comments    4157 non-null int64\n",
      "subreddit       4157 non-null object\n",
      "text            4157 non-null object\n",
      "time_created    4157 non-null int64\n",
      "title           4157 non-null object\n",
      "dtypes: int64(2), object(4)\n",
      "memory usage: 227.3+ KB\n"
     ]
    }
   ],
   "source": [
    "#Reran to see if nulls were removed\n",
    "df_all.info()"
   ]
  },
  {
   "cell_type": "code",
   "execution_count": 13,
   "metadata": {},
   "outputs": [
    {
     "data": {
      "text/html": [
       "<div>\n",
       "<style scoped>\n",
       "    .dataframe tbody tr th:only-of-type {\n",
       "        vertical-align: middle;\n",
       "    }\n",
       "\n",
       "    .dataframe tbody tr th {\n",
       "        vertical-align: top;\n",
       "    }\n",
       "\n",
       "    .dataframe thead th {\n",
       "        text-align: right;\n",
       "    }\n",
       "</style>\n",
       "<table border=\"1\" class=\"dataframe\">\n",
       "  <thead>\n",
       "    <tr style=\"text-align: right;\">\n",
       "      <th></th>\n",
       "      <th>id</th>\n",
       "      <th>num_comments</th>\n",
       "      <th>subreddit</th>\n",
       "      <th>text</th>\n",
       "      <th>time_created</th>\n",
       "      <th>title</th>\n",
       "    </tr>\n",
       "  </thead>\n",
       "  <tbody>\n",
       "    <tr>\n",
       "      <th>0</th>\n",
       "      <td>t3_azu6ko</td>\n",
       "      <td>495</td>\n",
       "      <td>Jokes</td>\n",
       "      <td>One day, a wife came home early and found her ...</td>\n",
       "      <td>1552315082</td>\n",
       "      <td>A wife came home early and...</td>\n",
       "    </tr>\n",
       "    <tr>\n",
       "      <th>1</th>\n",
       "      <td>t3_bvxeu4</td>\n",
       "      <td>30</td>\n",
       "      <td>Jokes</td>\n",
       "      <td>One is a superhero and the other is a command.</td>\n",
       "      <td>1559482488</td>\n",
       "      <td>What's the difference between Iron Man and Iro...</td>\n",
       "    </tr>\n",
       "    <tr>\n",
       "      <th>2</th>\n",
       "      <td>t3_c2q2v7</td>\n",
       "      <td>20</td>\n",
       "      <td>Jokes</td>\n",
       "      <td>As the days go by he gets hornier and hornier ...</td>\n",
       "      <td>1560996486</td>\n",
       "      <td>A guy gets lost in the desert, he has food, wa...</td>\n",
       "    </tr>\n",
       "    <tr>\n",
       "      <th>3</th>\n",
       "      <td>t3_c3jq7l</td>\n",
       "      <td>9</td>\n",
       "      <td>Jokes</td>\n",
       "      <td>There once was a man named John. John has thre...</td>\n",
       "      <td>1561168425</td>\n",
       "      <td>This is the story of Nate the Snake and John.</td>\n",
       "    </tr>\n",
       "    <tr>\n",
       "      <th>4</th>\n",
       "      <td>t3_c617yr</td>\n",
       "      <td>137</td>\n",
       "      <td>dadjokes</td>\n",
       "      <td>It's thinly sliced cabbage</td>\n",
       "      <td>1561611223</td>\n",
       "      <td>If you've heard of Murphy's law, which is that...</td>\n",
       "    </tr>\n",
       "  </tbody>\n",
       "</table>\n",
       "</div>"
      ],
      "text/plain": [
       "          id  num_comments subreddit  \\\n",
       "0  t3_azu6ko           495     Jokes   \n",
       "1  t3_bvxeu4            30     Jokes   \n",
       "2  t3_c2q2v7            20     Jokes   \n",
       "3  t3_c3jq7l             9     Jokes   \n",
       "4  t3_c617yr           137  dadjokes   \n",
       "\n",
       "                                                text  time_created  \\\n",
       "0  One day, a wife came home early and found her ...    1552315082   \n",
       "1     One is a superhero and the other is a command.    1559482488   \n",
       "2  As the days go by he gets hornier and hornier ...    1560996486   \n",
       "3  There once was a man named John. John has thre...    1561168425   \n",
       "4                         It's thinly sliced cabbage    1561611223   \n",
       "\n",
       "                                               title  \n",
       "0                      A wife came home early and...  \n",
       "1  What's the difference between Iron Man and Iro...  \n",
       "2  A guy gets lost in the desert, he has food, wa...  \n",
       "3      This is the story of Nate the Snake and John.  \n",
       "4  If you've heard of Murphy's law, which is that...  "
      ]
     },
     "execution_count": 13,
     "metadata": {},
     "output_type": "execute_result"
    }
   ],
   "source": [
    "df_all.head()"
   ]
  },
  {
   "cell_type": "code",
   "execution_count": 14,
   "metadata": {},
   "outputs": [],
   "source": [
    "#Created function to clean up the columns\n",
    "def clean(column): \n",
    "    clean = []\n",
    "    for c in column: \n",
    "        col = re.sub(\"[^a-zA-Z\\'\\s]\", ' ', c)\n",
    "        clean.append(col)\n",
    "    return clean"
   ]
  },
  {
   "cell_type": "code",
   "execution_count": 15,
   "metadata": {},
   "outputs": [],
   "source": [
    "#Clean up the title column\n",
    "df_all['title'] = clean(df_all['title'])"
   ]
  },
  {
   "cell_type": "code",
   "execution_count": 16,
   "metadata": {},
   "outputs": [],
   "source": [
    "#Clean up the text column\n",
    "df_all['text'] = clean(df_all['text'])"
   ]
  },
  {
   "cell_type": "code",
   "execution_count": 17,
   "metadata": {},
   "outputs": [],
   "source": [
    "#Merged title and text columns\n",
    "#For most of the jokes the title is the set up and the text is the punch line\n",
    "df_all['full_text'] = df_all['title'] + df_all['text']"
   ]
  },
  {
   "cell_type": "code",
   "execution_count": 18,
   "metadata": {},
   "outputs": [],
   "source": [
    "#Converted the new full text columns to all lower case\n",
    "df_all['full_text'] = df_all['full_text'].str.lower()"
   ]
  },
  {
   "cell_type": "code",
   "execution_count": 19,
   "metadata": {},
   "outputs": [
    {
     "data": {
      "text/html": [
       "<div>\n",
       "<style scoped>\n",
       "    .dataframe tbody tr th:only-of-type {\n",
       "        vertical-align: middle;\n",
       "    }\n",
       "\n",
       "    .dataframe tbody tr th {\n",
       "        vertical-align: top;\n",
       "    }\n",
       "\n",
       "    .dataframe thead th {\n",
       "        text-align: right;\n",
       "    }\n",
       "</style>\n",
       "<table border=\"1\" class=\"dataframe\">\n",
       "  <thead>\n",
       "    <tr style=\"text-align: right;\">\n",
       "      <th></th>\n",
       "      <th>id</th>\n",
       "      <th>num_comments</th>\n",
       "      <th>subreddit</th>\n",
       "      <th>text</th>\n",
       "      <th>time_created</th>\n",
       "      <th>title</th>\n",
       "      <th>full_text</th>\n",
       "    </tr>\n",
       "  </thead>\n",
       "  <tbody>\n",
       "    <tr>\n",
       "      <th>0</th>\n",
       "      <td>t3_azu6ko</td>\n",
       "      <td>495</td>\n",
       "      <td>Jokes</td>\n",
       "      <td>One day  a wife came home early and found her ...</td>\n",
       "      <td>1552315082</td>\n",
       "      <td>A wife came home early and</td>\n",
       "      <td>a wife came home early and   one day  a wife c...</td>\n",
       "    </tr>\n",
       "    <tr>\n",
       "      <th>1</th>\n",
       "      <td>t3_bvxeu4</td>\n",
       "      <td>30</td>\n",
       "      <td>Jokes</td>\n",
       "      <td>One is a superhero and the other is a command</td>\n",
       "      <td>1559482488</td>\n",
       "      <td>What's the difference between Iron Man and Iro...</td>\n",
       "      <td>what's the difference between iron man and iro...</td>\n",
       "    </tr>\n",
       "    <tr>\n",
       "      <th>2</th>\n",
       "      <td>t3_c2q2v7</td>\n",
       "      <td>20</td>\n",
       "      <td>Jokes</td>\n",
       "      <td>As the days go by he gets hornier and hornier ...</td>\n",
       "      <td>1560996486</td>\n",
       "      <td>A guy gets lost in the desert  he has food  wa...</td>\n",
       "      <td>a guy gets lost in the desert  he has food  wa...</td>\n",
       "    </tr>\n",
       "    <tr>\n",
       "      <th>3</th>\n",
       "      <td>t3_c3jq7l</td>\n",
       "      <td>9</td>\n",
       "      <td>Jokes</td>\n",
       "      <td>There once was a man named John  John has thre...</td>\n",
       "      <td>1561168425</td>\n",
       "      <td>This is the story of Nate the Snake and John</td>\n",
       "      <td>this is the story of nate the snake and john t...</td>\n",
       "    </tr>\n",
       "    <tr>\n",
       "      <th>4</th>\n",
       "      <td>t3_c617yr</td>\n",
       "      <td>137</td>\n",
       "      <td>dadjokes</td>\n",
       "      <td>It's thinly sliced cabbage</td>\n",
       "      <td>1561611223</td>\n",
       "      <td>If you've heard of Murphy's law  which is that...</td>\n",
       "      <td>if you've heard of murphy's law  which is that...</td>\n",
       "    </tr>\n",
       "  </tbody>\n",
       "</table>\n",
       "</div>"
      ],
      "text/plain": [
       "          id  num_comments subreddit  \\\n",
       "0  t3_azu6ko           495     Jokes   \n",
       "1  t3_bvxeu4            30     Jokes   \n",
       "2  t3_c2q2v7            20     Jokes   \n",
       "3  t3_c3jq7l             9     Jokes   \n",
       "4  t3_c617yr           137  dadjokes   \n",
       "\n",
       "                                                text  time_created  \\\n",
       "0  One day  a wife came home early and found her ...    1552315082   \n",
       "1     One is a superhero and the other is a command     1559482488   \n",
       "2  As the days go by he gets hornier and hornier ...    1560996486   \n",
       "3  There once was a man named John  John has thre...    1561168425   \n",
       "4                         It's thinly sliced cabbage    1561611223   \n",
       "\n",
       "                                               title  \\\n",
       "0                      A wife came home early and      \n",
       "1  What's the difference between Iron Man and Iro...   \n",
       "2  A guy gets lost in the desert  he has food  wa...   \n",
       "3      This is the story of Nate the Snake and John    \n",
       "4  If you've heard of Murphy's law  which is that...   \n",
       "\n",
       "                                           full_text  \n",
       "0  a wife came home early and   one day  a wife c...  \n",
       "1  what's the difference between iron man and iro...  \n",
       "2  a guy gets lost in the desert  he has food  wa...  \n",
       "3  this is the story of nate the snake and john t...  \n",
       "4  if you've heard of murphy's law  which is that...  "
      ]
     },
     "execution_count": 19,
     "metadata": {},
     "output_type": "execute_result"
    }
   ],
   "source": [
    "df_all.head()"
   ]
  },
  {
   "cell_type": "markdown",
   "metadata": {},
   "source": [
    "# Converted subreddit column to values"
   ]
  },
  {
   "cell_type": "code",
   "execution_count": 20,
   "metadata": {},
   "outputs": [],
   "source": [
    "#Jokes = 0\n",
    "#DadJokes = 1\n",
    "df_all['subreddit'] = df_all['subreddit'].map({'Jokes':0,\n",
    "                                     'dadjokes':1})"
   ]
  },
  {
   "cell_type": "code",
   "execution_count": 21,
   "metadata": {},
   "outputs": [],
   "source": [
    "#Saved cleaned dataframe to new csv.\n",
    "df_all.to_csv('../data/all_clean.csv', index=False)"
   ]
  },
  {
   "cell_type": "code",
   "execution_count": null,
   "metadata": {},
   "outputs": [],
   "source": []
  }
 ],
 "metadata": {
  "kernelspec": {
   "display_name": "Python 3",
   "language": "python",
   "name": "python3"
  },
  "language_info": {
   "codemirror_mode": {
    "name": "ipython",
    "version": 3
   },
   "file_extension": ".py",
   "mimetype": "text/x-python",
   "name": "python",
   "nbconvert_exporter": "python",
   "pygments_lexer": "ipython3",
   "version": "3.7.3"
  }
 },
 "nbformat": 4,
 "nbformat_minor": 2
}
