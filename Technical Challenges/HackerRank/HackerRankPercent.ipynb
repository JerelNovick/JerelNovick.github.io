{
 "cells": [
  {
   "cell_type": "markdown",
   "metadata": {},
   "source": [
    "This is a challenge I did from HackerRank.  The goal was to find the average of a student's test scores."
   ]
  },
  {
   "cell_type": "code",
   "execution_count": 1,
   "metadata": {},
   "outputs": [
    {
     "name": "stdout",
     "output_type": "stream",
     "text": [
      "Number of Students: 3\n",
      "Name of Student: Krishna 67 68 69\n",
      "Name of Student: Arjun 70 98 63\n",
      "Name of Student: Malika 52 56 60\n",
      "Arjun\n",
      "77.00\n"
     ]
    }
   ],
   "source": [
    "N = int(input('Number of Students: '))\n",
    "\n",
    "students = dict()\n",
    "\n",
    "for x in range(N):\n",
    "    temp = input('Name of Student: ').split(' ')\n",
    "    names = temp[0]\n",
    "    students[names] = (float(temp[1]), float(temp[2]), float(temp[3]))\n",
    "\n",
    "names = input()\n",
    "print('%.2f' % (sum(students[names]) / 3.0))"
   ]
  },
  {
   "cell_type": "code",
   "execution_count": null,
   "metadata": {},
   "outputs": [],
   "source": []
  }
 ],
 "metadata": {
  "kernelspec": {
   "display_name": "Python [conda env:dsi] *",
   "language": "python",
   "name": "conda-env-dsi-py"
  },
  "language_info": {
   "codemirror_mode": {
    "name": "ipython",
    "version": 3
   },
   "file_extension": ".py",
   "mimetype": "text/x-python",
   "name": "python",
   "nbconvert_exporter": "python",
   "pygments_lexer": "ipython3",
   "version": "3.7.3"
  }
 },
 "nbformat": 4,
 "nbformat_minor": 4
}
