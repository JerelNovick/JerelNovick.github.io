{
 "cells": [
  {
   "cell_type": "markdown",
   "metadata": {},
   "source": [
    "Finding the value closest to j"
   ]
  },
  {
   "cell_type": "markdown",
   "metadata": {},
   "source": [
    "Suppose you are given a list of <b>Q</b> 1D points. Return the value in Q that is the closest to value j.\n",
    "\n",
    "Example:\n",
    "<pre>\n",
    "Q = [1, -1, -5, 2, 4, -2, 1]\n",
    "\n",
    "j = 3\n",
    "</pre>\n",
    "\n",
    "The answer in this case is 2."
   ]
  },
  {
   "cell_type": "code",
   "execution_count": 1,
   "metadata": {
    "ExecuteTime": {
     "end_time": "2021-02-04T23:03:13.642152Z",
     "start_time": "2021-02-04T23:03:13.449329Z"
    }
   },
   "outputs": [],
   "source": [
    "import numpy as np"
   ]
  },
  {
   "cell_type": "code",
   "execution_count": 15,
   "metadata": {
    "ExecuteTime": {
     "end_time": "2021-02-04T23:12:02.677900Z",
     "start_time": "2021-02-04T23:12:02.668892Z"
    }
   },
   "outputs": [],
   "source": [
    "def find_closest(Q, j):              \n",
    "  array = np.asarray(Q) #create array             \n",
    "  idx = (np.abs(array - j)).argmin() #subtract j from each value in the array, create absolute values and find the min \n",
    "  return array[idx]                  "
   ]
  },
  {
   "cell_type": "code",
   "execution_count": 16,
   "metadata": {
    "ExecuteTime": {
     "end_time": "2021-02-04T23:12:03.624007Z",
     "start_time": "2021-02-04T23:12:03.614811Z"
    }
   },
   "outputs": [
    {
     "name": "stdout",
     "output_type": "stream",
     "text": [
      "3\n"
     ]
    },
    {
     "data": {
      "text/plain": [
       "2"
      ]
     },
     "execution_count": 16,
     "metadata": {},
     "output_type": "execute_result"
    }
   ],
   "source": [
    "Q = [1, -1, -5, 2, 4, -2, 1]\n",
    "j = 3\n",
    "find_closest(Q,j)"
   ]
  },
  {
   "cell_type": "code",
   "execution_count": null,
   "metadata": {},
   "outputs": [],
   "source": []
  }
 ],
 "metadata": {
  "kernelspec": {
   "display_name": "Python [conda env:dsi] *",
   "language": "python",
   "name": "conda-env-dsi-py"
  },
  "language_info": {
   "codemirror_mode": {
    "name": "ipython",
    "version": 3
   },
   "file_extension": ".py",
   "mimetype": "text/x-python",
   "name": "python",
   "nbconvert_exporter": "python",
   "pygments_lexer": "ipython3",
   "version": "3.7.8"
  }
 },
 "nbformat": 4,
 "nbformat_minor": 4
}
