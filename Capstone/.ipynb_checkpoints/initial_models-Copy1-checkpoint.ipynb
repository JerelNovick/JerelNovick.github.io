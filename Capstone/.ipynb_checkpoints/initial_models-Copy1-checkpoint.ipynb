{
 "cells": [
  {
   "cell_type": "code",
   "execution_count": 29,
   "metadata": {},
   "outputs": [],
   "source": [
    "import pandas as pd\n",
    "from sklearn.feature_selection import RFE\n",
    "from sklearn.linear_model import LogisticRegression\n",
    "from sklearn.decomposition import PCA\n",
    "from sklearn.feature_selection import SelectKBest, chi2, RFECV\n",
    "from sklearn.metrics import r2_score\n",
    "from sklearn.model_selection import cross_val_score, GridSearchCV, train_test_split\n",
    "from sklearn.ensemble import RandomForestRegressor, ExtraTreesRegressor\n",
    "from sklearn.metrics import accuracy_score as acc\n",
    "pd.set_option('display.max_columns', 99)\n",
    "pd.set_option('display.max_rows', 1000)"
   ]
  },
  {
   "cell_type": "code",
   "execution_count": 30,
   "metadata": {},
   "outputs": [],
   "source": [
    "nba_new = pd.read_csv('./data/nba_new.csv')"
   ]
  },
  {
   "cell_type": "code",
   "execution_count": null,
   "metadata": {},
   "outputs": [],
   "source": [
    "#nba_new = nba_new.loc[(nba_new['fga'] > 0)]\n",
    "#nba_new = nba_new.loc[(nba_new['blk'] > 0)]"
   ]
  },
  {
   "cell_type": "code",
   "execution_count": null,
   "metadata": {},
   "outputs": [],
   "source": [
    "#nba_new.loc[(nba_new['fga'] == 0)]"
   ]
  },
  {
   "cell_type": "code",
   "execution_count": null,
   "metadata": {},
   "outputs": [],
   "source": [
    "nba_new"
   ]
  },
  {
   "cell_type": "code",
   "execution_count": 15,
   "metadata": {},
   "outputs": [
    {
     "data": {
      "text/html": [
       "<div>\n",
       "<style scoped>\n",
       "    .dataframe tbody tr th:only-of-type {\n",
       "        vertical-align: middle;\n",
       "    }\n",
       "\n",
       "    .dataframe tbody tr th {\n",
       "        vertical-align: top;\n",
       "    }\n",
       "\n",
       "    .dataframe thead th {\n",
       "        text-align: right;\n",
       "    }\n",
       "</style>\n",
       "<table border=\"1\" class=\"dataframe\">\n",
       "  <thead>\n",
       "    <tr style=\"text-align: right;\">\n",
       "      <th></th>\n",
       "      <th>game_id</th>\n",
       "      <th>team_id</th>\n",
       "      <th>is_home</th>\n",
       "      <th>wl</th>\n",
       "      <th>fgm</th>\n",
       "      <th>fga</th>\n",
       "      <th>fg_pct</th>\n",
       "      <th>fg3m</th>\n",
       "      <th>fg3a</th>\n",
       "      <th>fg3_pct</th>\n",
       "      <th>ftm</th>\n",
       "      <th>fta</th>\n",
       "      <th>ft_pct</th>\n",
       "      <th>oreb</th>\n",
       "      <th>dreb</th>\n",
       "      <th>reb</th>\n",
       "      <th>ast</th>\n",
       "      <th>stl</th>\n",
       "      <th>blk</th>\n",
       "      <th>tov</th>\n",
       "      <th>pf</th>\n",
       "      <th>pts</th>\n",
       "      <th>a_team_id</th>\n",
       "      <th>season_year</th>\n",
       "    </tr>\n",
       "  </thead>\n",
       "  <tbody>\n",
       "    <tr>\n",
       "      <th>count</th>\n",
       "      <td>2.411800e+04</td>\n",
       "      <td>2.411800e+04</td>\n",
       "      <td>24118.00000</td>\n",
       "      <td>24118.00000</td>\n",
       "      <td>24118.000000</td>\n",
       "      <td>24118.000000</td>\n",
       "      <td>24118.000000</td>\n",
       "      <td>24118.000000</td>\n",
       "      <td>24118.000000</td>\n",
       "      <td>24118.000000</td>\n",
       "      <td>24118.000000</td>\n",
       "      <td>24118.000000</td>\n",
       "      <td>24118.000000</td>\n",
       "      <td>24118.000000</td>\n",
       "      <td>24118.000000</td>\n",
       "      <td>24118.000000</td>\n",
       "      <td>24118.000000</td>\n",
       "      <td>24118.000000</td>\n",
       "      <td>24118.000000</td>\n",
       "      <td>24118.000000</td>\n",
       "      <td>24118.000000</td>\n",
       "      <td>24118.000000</td>\n",
       "      <td>2.411800e+04</td>\n",
       "      <td>24118.000000</td>\n",
       "    </tr>\n",
       "    <tr>\n",
       "      <th>mean</th>\n",
       "      <td>2.125360e+07</td>\n",
       "      <td>1.610613e+09</td>\n",
       "      <td>0.50000</td>\n",
       "      <td>0.50000</td>\n",
       "      <td>37.805415</td>\n",
       "      <td>83.020192</td>\n",
       "      <td>0.456486</td>\n",
       "      <td>7.762584</td>\n",
       "      <td>21.730367</td>\n",
       "      <td>0.354355</td>\n",
       "      <td>17.717555</td>\n",
       "      <td>23.304337</td>\n",
       "      <td>0.760652</td>\n",
       "      <td>10.738909</td>\n",
       "      <td>31.824115</td>\n",
       "      <td>42.563023</td>\n",
       "      <td>21.920765</td>\n",
       "      <td>7.596111</td>\n",
       "      <td>4.873414</td>\n",
       "      <td>13.703790</td>\n",
       "      <td>20.310059</td>\n",
       "      <td>101.090969</td>\n",
       "      <td>1.610613e+09</td>\n",
       "      <td>2012.529895</td>\n",
       "    </tr>\n",
       "    <tr>\n",
       "      <th>std</th>\n",
       "      <td>2.893068e+05</td>\n",
       "      <td>8.655528e+00</td>\n",
       "      <td>0.50001</td>\n",
       "      <td>0.50001</td>\n",
       "      <td>5.066821</td>\n",
       "      <td>7.376682</td>\n",
       "      <td>0.055739</td>\n",
       "      <td>3.528678</td>\n",
       "      <td>7.226908</td>\n",
       "      <td>0.109144</td>\n",
       "      <td>6.101558</td>\n",
       "      <td>7.482102</td>\n",
       "      <td>0.102473</td>\n",
       "      <td>3.884656</td>\n",
       "      <td>5.365560</td>\n",
       "      <td>6.504956</td>\n",
       "      <td>5.065535</td>\n",
       "      <td>2.908629</td>\n",
       "      <td>2.563038</td>\n",
       "      <td>3.821156</td>\n",
       "      <td>4.329493</td>\n",
       "      <td>12.283308</td>\n",
       "      <td>8.655528e+00</td>\n",
       "      <td>2.893014</td>\n",
       "    </tr>\n",
       "    <tr>\n",
       "      <th>min</th>\n",
       "      <td>2.080000e+07</td>\n",
       "      <td>1.610613e+09</td>\n",
       "      <td>0.00000</td>\n",
       "      <td>0.00000</td>\n",
       "      <td>16.000000</td>\n",
       "      <td>59.000000</td>\n",
       "      <td>0.246000</td>\n",
       "      <td>0.000000</td>\n",
       "      <td>3.000000</td>\n",
       "      <td>0.000000</td>\n",
       "      <td>1.000000</td>\n",
       "      <td>1.000000</td>\n",
       "      <td>0.143000</td>\n",
       "      <td>0.000000</td>\n",
       "      <td>12.000000</td>\n",
       "      <td>17.000000</td>\n",
       "      <td>4.000000</td>\n",
       "      <td>0.000000</td>\n",
       "      <td>0.000000</td>\n",
       "      <td>2.000000</td>\n",
       "      <td>5.000000</td>\n",
       "      <td>56.000000</td>\n",
       "      <td>1.610613e+09</td>\n",
       "      <td>2008.000000</td>\n",
       "    </tr>\n",
       "    <tr>\n",
       "      <th>25%</th>\n",
       "      <td>2.100056e+07</td>\n",
       "      <td>1.610613e+09</td>\n",
       "      <td>0.00000</td>\n",
       "      <td>0.00000</td>\n",
       "      <td>34.000000</td>\n",
       "      <td>78.000000</td>\n",
       "      <td>0.419000</td>\n",
       "      <td>5.000000</td>\n",
       "      <td>16.000000</td>\n",
       "      <td>0.286000</td>\n",
       "      <td>13.000000</td>\n",
       "      <td>18.000000</td>\n",
       "      <td>0.696000</td>\n",
       "      <td>8.000000</td>\n",
       "      <td>28.000000</td>\n",
       "      <td>38.000000</td>\n",
       "      <td>18.000000</td>\n",
       "      <td>6.000000</td>\n",
       "      <td>3.000000</td>\n",
       "      <td>11.000000</td>\n",
       "      <td>17.000000</td>\n",
       "      <td>93.000000</td>\n",
       "      <td>1.610613e+09</td>\n",
       "      <td>2010.000000</td>\n",
       "    </tr>\n",
       "    <tr>\n",
       "      <th>50%</th>\n",
       "      <td>2.130012e+07</td>\n",
       "      <td>1.610613e+09</td>\n",
       "      <td>0.50000</td>\n",
       "      <td>0.50000</td>\n",
       "      <td>38.000000</td>\n",
       "      <td>83.000000</td>\n",
       "      <td>0.456000</td>\n",
       "      <td>7.000000</td>\n",
       "      <td>21.000000</td>\n",
       "      <td>0.353000</td>\n",
       "      <td>17.000000</td>\n",
       "      <td>23.000000</td>\n",
       "      <td>0.767000</td>\n",
       "      <td>10.000000</td>\n",
       "      <td>32.000000</td>\n",
       "      <td>42.000000</td>\n",
       "      <td>22.000000</td>\n",
       "      <td>7.000000</td>\n",
       "      <td>5.000000</td>\n",
       "      <td>14.000000</td>\n",
       "      <td>20.000000</td>\n",
       "      <td>101.000000</td>\n",
       "      <td>1.610613e+09</td>\n",
       "      <td>2013.000000</td>\n",
       "    </tr>\n",
       "    <tr>\n",
       "      <th>75%</th>\n",
       "      <td>2.150068e+07</td>\n",
       "      <td>1.610613e+09</td>\n",
       "      <td>1.00000</td>\n",
       "      <td>1.00000</td>\n",
       "      <td>41.000000</td>\n",
       "      <td>88.000000</td>\n",
       "      <td>0.494000</td>\n",
       "      <td>10.000000</td>\n",
       "      <td>26.000000</td>\n",
       "      <td>0.429000</td>\n",
       "      <td>22.000000</td>\n",
       "      <td>28.000000</td>\n",
       "      <td>0.833000</td>\n",
       "      <td>13.000000</td>\n",
       "      <td>35.000000</td>\n",
       "      <td>47.000000</td>\n",
       "      <td>25.000000</td>\n",
       "      <td>9.000000</td>\n",
       "      <td>6.000000</td>\n",
       "      <td>16.000000</td>\n",
       "      <td>23.000000</td>\n",
       "      <td>109.000000</td>\n",
       "      <td>1.610613e+09</td>\n",
       "      <td>2015.000000</td>\n",
       "    </tr>\n",
       "    <tr>\n",
       "      <th>max</th>\n",
       "      <td>2.170123e+07</td>\n",
       "      <td>1.610613e+09</td>\n",
       "      <td>1.00000</td>\n",
       "      <td>1.00000</td>\n",
       "      <td>62.000000</td>\n",
       "      <td>129.000000</td>\n",
       "      <td>0.684000</td>\n",
       "      <td>25.000000</td>\n",
       "      <td>61.000000</td>\n",
       "      <td>0.889000</td>\n",
       "      <td>52.000000</td>\n",
       "      <td>64.000000</td>\n",
       "      <td>1.000000</td>\n",
       "      <td>38.000000</td>\n",
       "      <td>56.000000</td>\n",
       "      <td>81.000000</td>\n",
       "      <td>47.000000</td>\n",
       "      <td>22.000000</td>\n",
       "      <td>18.000000</td>\n",
       "      <td>29.000000</td>\n",
       "      <td>42.000000</td>\n",
       "      <td>154.000000</td>\n",
       "      <td>1.610613e+09</td>\n",
       "      <td>2017.000000</td>\n",
       "    </tr>\n",
       "  </tbody>\n",
       "</table>\n",
       "</div>"
      ],
      "text/plain": [
       "            game_id       team_id      is_home           wl           fgm  \\\n",
       "count  2.411800e+04  2.411800e+04  24118.00000  24118.00000  24118.000000   \n",
       "mean   2.125360e+07  1.610613e+09      0.50000      0.50000     37.805415   \n",
       "std    2.893068e+05  8.655528e+00      0.50001      0.50001      5.066821   \n",
       "min    2.080000e+07  1.610613e+09      0.00000      0.00000     16.000000   \n",
       "25%    2.100056e+07  1.610613e+09      0.00000      0.00000     34.000000   \n",
       "50%    2.130012e+07  1.610613e+09      0.50000      0.50000     38.000000   \n",
       "75%    2.150068e+07  1.610613e+09      1.00000      1.00000     41.000000   \n",
       "max    2.170123e+07  1.610613e+09      1.00000      1.00000     62.000000   \n",
       "\n",
       "                fga        fg_pct          fg3m          fg3a       fg3_pct  \\\n",
       "count  24118.000000  24118.000000  24118.000000  24118.000000  24118.000000   \n",
       "mean      83.020192      0.456486      7.762584     21.730367      0.354355   \n",
       "std        7.376682      0.055739      3.528678      7.226908      0.109144   \n",
       "min       59.000000      0.246000      0.000000      3.000000      0.000000   \n",
       "25%       78.000000      0.419000      5.000000     16.000000      0.286000   \n",
       "50%       83.000000      0.456000      7.000000     21.000000      0.353000   \n",
       "75%       88.000000      0.494000     10.000000     26.000000      0.429000   \n",
       "max      129.000000      0.684000     25.000000     61.000000      0.889000   \n",
       "\n",
       "                ftm           fta        ft_pct          oreb          dreb  \\\n",
       "count  24118.000000  24118.000000  24118.000000  24118.000000  24118.000000   \n",
       "mean      17.717555     23.304337      0.760652     10.738909     31.824115   \n",
       "std        6.101558      7.482102      0.102473      3.884656      5.365560   \n",
       "min        1.000000      1.000000      0.143000      0.000000     12.000000   \n",
       "25%       13.000000     18.000000      0.696000      8.000000     28.000000   \n",
       "50%       17.000000     23.000000      0.767000     10.000000     32.000000   \n",
       "75%       22.000000     28.000000      0.833000     13.000000     35.000000   \n",
       "max       52.000000     64.000000      1.000000     38.000000     56.000000   \n",
       "\n",
       "                reb           ast           stl           blk           tov  \\\n",
       "count  24118.000000  24118.000000  24118.000000  24118.000000  24118.000000   \n",
       "mean      42.563023     21.920765      7.596111      4.873414     13.703790   \n",
       "std        6.504956      5.065535      2.908629      2.563038      3.821156   \n",
       "min       17.000000      4.000000      0.000000      0.000000      2.000000   \n",
       "25%       38.000000     18.000000      6.000000      3.000000     11.000000   \n",
       "50%       42.000000     22.000000      7.000000      5.000000     14.000000   \n",
       "75%       47.000000     25.000000      9.000000      6.000000     16.000000   \n",
       "max       81.000000     47.000000     22.000000     18.000000     29.000000   \n",
       "\n",
       "                 pf           pts     a_team_id   season_year  \n",
       "count  24118.000000  24118.000000  2.411800e+04  24118.000000  \n",
       "mean      20.310059    101.090969  1.610613e+09   2012.529895  \n",
       "std        4.329493     12.283308  8.655528e+00      2.893014  \n",
       "min        5.000000     56.000000  1.610613e+09   2008.000000  \n",
       "25%       17.000000     93.000000  1.610613e+09   2010.000000  \n",
       "50%       20.000000    101.000000  1.610613e+09   2013.000000  \n",
       "75%       23.000000    109.000000  1.610613e+09   2015.000000  \n",
       "max       42.000000    154.000000  1.610613e+09   2017.000000  "
      ]
     },
     "execution_count": 15,
     "metadata": {},
     "output_type": "execute_result"
    }
   ],
   "source": [
    "nba_new.describe()"
   ]
  },
  {
   "cell_type": "code",
   "execution_count": null,
   "metadata": {},
   "outputs": [],
   "source": [
    "nba_new['season_year'].unique()"
   ]
  },
  {
   "cell_type": "code",
   "execution_count": null,
   "metadata": {},
   "outputs": [],
   "source": [
    "#manually train-test split\n",
    "#the 2008-2014 seasons are in train\n",
    "#the 2015-2017 seasons are in test\n",
    "nba_train = nba_new.loc[(nba_new['season_year'] < 2015)]\n",
    "nba_test = nba_new.loc[(nba_new['season_year'] >= 2015)]"
   ]
  },
  {
   "cell_type": "code",
   "execution_count": 41,
   "metadata": {},
   "outputs": [
    {
     "data": {
      "text/plain": [
       "Index(['game_id', 'matchup', 'team_id', 'name', 'is_home', 'wl', 'fgm', 'fga',\n",
       "       'fg_pct', 'fg3m', 'fg3a', 'fg3_pct', 'ftm', 'fta', 'ft_pct', 'oreb',\n",
       "       'dreb', 'reb', 'ast', 'stl', 'blk', 'tov', 'pf', 'pts', 'a_team_id',\n",
       "       'season_year'],\n",
       "      dtype='object')"
      ]
     },
     "execution_count": 41,
     "metadata": {},
     "output_type": "execute_result"
    }
   ],
   "source": [
    "nba_new.columns"
   ]
  },
  {
   "cell_type": "code",
   "execution_count": 42,
   "metadata": {},
   "outputs": [],
   "source": [
    "features = ['fgm', 'fga',\n",
    "       'fg_pct', 'fg3m', 'fg3a', 'fg3_pct', 'ftm', 'fta', 'ft_pct', 'oreb',\n",
    "       'dreb', 'reb', 'ast', 'stl', 'blk', 'tov', 'pf']\n",
    "X = nba_new[features]\n",
    "y = nba_new['wl']"
   ]
  },
  {
   "cell_type": "code",
   "execution_count": 32,
   "metadata": {},
   "outputs": [],
   "source": [
    "X_train, X_test, y_train, y_test = train_test_split(X,\n",
    "                                                    y, random_state=42)"
   ]
  },
  {
   "cell_type": "code",
   "execution_count": null,
   "metadata": {},
   "outputs": [],
   "source": [
    "nba_new.columns"
   ]
  },
  {
   "cell_type": "code",
   "execution_count": null,
   "metadata": {},
   "outputs": [],
   "source": [
    "#features = ['is_home','fgm', 'fga','fg3m', 'fg3a','ftm', 'fta','oreb','dreb', 'ast', 'stl', 'blk', 'tov', 'pf']\n",
    "#X_train = nba_train[features]\n",
    "#X_test = nba_test[features]\n",
    "#y_train = nba_train['wl']\n",
    "#y_test = nba_test['wl']"
   ]
  },
  {
   "cell_type": "code",
   "execution_count": 5,
   "metadata": {},
   "outputs": [
    {
     "data": {
      "text/plain": [
       "(18088, 14)"
      ]
     },
     "execution_count": 5,
     "metadata": {},
     "output_type": "execute_result"
    }
   ],
   "source": [
    "X_train.shape"
   ]
  },
  {
   "cell_type": "code",
   "execution_count": 6,
   "metadata": {},
   "outputs": [
    {
     "data": {
      "text/plain": [
       "(6030, 14)"
      ]
     },
     "execution_count": 6,
     "metadata": {},
     "output_type": "execute_result"
    }
   ],
   "source": [
    "X_test.shape"
   ]
  },
  {
   "cell_type": "code",
   "execution_count": 33,
   "metadata": {},
   "outputs": [],
   "source": [
    "lr = LogisticRegression()"
   ]
  },
  {
   "cell_type": "code",
   "execution_count": 34,
   "metadata": {},
   "outputs": [
    {
     "name": "stderr",
     "output_type": "stream",
     "text": [
      "/Users/jerelnovick/anaconda3/envs/dsi/lib/python3.7/site-packages/sklearn/linear_model/logistic.py:432: FutureWarning: Default solver will be changed to 'lbfgs' in 0.22. Specify a solver to silence this warning.\n",
      "  FutureWarning)\n"
     ]
    },
    {
     "data": {
      "text/plain": [
       "LogisticRegression(C=1.0, class_weight=None, dual=False, fit_intercept=True,\n",
       "                   intercept_scaling=1, l1_ratio=None, max_iter=100,\n",
       "                   multi_class='warn', n_jobs=None, penalty='l2',\n",
       "                   random_state=None, solver='warn', tol=0.0001, verbose=0,\n",
       "                   warm_start=False)"
      ]
     },
     "execution_count": 34,
     "metadata": {},
     "output_type": "execute_result"
    }
   ],
   "source": [
    "lr.fit(X_train, y_train)"
   ]
  },
  {
   "cell_type": "code",
   "execution_count": 35,
   "metadata": {},
   "outputs": [],
   "source": [
    "preds = lr.predict(X_test)"
   ]
  },
  {
   "cell_type": "code",
   "execution_count": 36,
   "metadata": {},
   "outputs": [
    {
     "data": {
      "text/plain": [
       "array([[ 0.50724048,  0.15103544, -0.15699251,  0.06679834, -0.02916606,\n",
       "         0.21634014,  0.04063897, -0.15665508, -0.09640037,  0.07260168]])"
      ]
     },
     "execution_count": 36,
     "metadata": {},
     "output_type": "execute_result"
    }
   ],
   "source": [
    "lr.coef_"
   ]
  },
  {
   "cell_type": "code",
   "execution_count": 37,
   "metadata": {},
   "outputs": [
    {
     "data": {
      "text/plain": [
       "array([-4.41569723])"
      ]
     },
     "execution_count": 37,
     "metadata": {},
     "output_type": "execute_result"
    }
   ],
   "source": [
    "lr.intercept_"
   ]
  },
  {
   "cell_type": "code",
   "execution_count": 38,
   "metadata": {},
   "outputs": [],
   "source": [
    "resid = y_test - preds"
   ]
  },
  {
   "cell_type": "code",
   "execution_count": 39,
   "metadata": {},
   "outputs": [
    {
     "data": {
      "text/plain": [
       "0.19193970592562937"
      ]
     },
     "execution_count": 39,
     "metadata": {},
     "output_type": "execute_result"
    }
   ],
   "source": [
    "r2_score(y_train,lr.predict(X_train))"
   ]
  },
  {
   "cell_type": "code",
   "execution_count": 40,
   "metadata": {},
   "outputs": [
    {
     "data": {
      "text/plain": [
       "0.17071325591343345"
      ]
     },
     "execution_count": 40,
     "metadata": {},
     "output_type": "execute_result"
    }
   ],
   "source": [
    "r2_score(y_test,lr.predict(X_test))"
   ]
  },
  {
   "cell_type": "code",
   "execution_count": null,
   "metadata": {},
   "outputs": [],
   "source": []
  }
 ],
 "metadata": {
  "kernelspec": {
   "display_name": "Python [conda env:dsi] *",
   "language": "python",
   "name": "conda-env-dsi-py"
  },
  "language_info": {
   "codemirror_mode": {
    "name": "ipython",
    "version": 3
   },
   "file_extension": ".py",
   "mimetype": "text/x-python",
   "name": "python",
   "nbconvert_exporter": "python",
   "pygments_lexer": "ipython3",
   "version": "3.7.3"
  }
 },
 "nbformat": 4,
 "nbformat_minor": 2
}
