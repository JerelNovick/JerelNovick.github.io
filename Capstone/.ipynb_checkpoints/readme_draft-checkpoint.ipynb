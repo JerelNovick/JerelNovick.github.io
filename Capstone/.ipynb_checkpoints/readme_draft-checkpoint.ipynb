{
 "cells": [
  {
   "cell_type": "markdown",
   "metadata": {},
   "source": [
    "# ![](https://ga-dash.s3.amazonaws.com/production/assets/logo-9f88ae6c9c3871690e33280fcf557f33.png) Predicting Winners of NBA Games\n",
    "\n",
    "## Project Authors\n",
    "Jerel Novick\n",
    "\n",
    "## Repo Contents\n",
    "\n",
    "* Code\n",
    "* Data\n",
    "\n",
    "## Table of Contents\n",
    "\n",
    "[1. Problem Statement](#1.-Problem-Statement)<br>\n",
    "[2. Executive Summary](#2.-Tools-&-Methodology)<br>\n",
    "[3. Data Dictionary](#3.-Data-Dictionary)<br>\n",
    "[4. Key Takeways](#4.-Key-Takeaways)<br>\n",
    "[5. Next Steps](#5.-Next-Steps)<br>\n",
    "\n",
    "## 1. Problem Statement\n",
    "\n",
    "The purpose of this analysis is to attempt to predict the winners of NBA games using box score statistics from a game.\n",
    "\n",
    "[New Light Technologies](https://newlighttechnologies.com/) tasked us with estimating the affluence of a neighborhood based on the Yelp designated one to four dollar sign scale for businesses and services in a given city. While traditional methods typically estimate wealth of a locality based on demographic characteristics (e.g. income or unemployment rate), the novelty of this approach is in its use of big data related to commercial activity and cost of product and services as an indicator for affluency.\n",
    "\n",
    "Null Hypothesis: Yelp pricepoints do not predict affluence of an area.\n",
    "\n",
    "\n",
    "## 2. Executive Summary\n",
    "\n",
    "The data from this analysis was obtain from an existing Kaggle data set (\n",
    "\n",
    "Data was gathered from Yelp for the most populous city in each of the 50 states. The data was categorically divided into restaurants, hotels, shopping, nightlife and beauty, which totaled almost 85,000 datapoints.  The datapoints were then aggreated for each of the cities based on Yelp's price ratings ($$$, $$$, $$, $) and number of stars (1 to 5). Affluency was measured by the median household income in each of the cities. This data was retrieved from City-Data.com.\n",
    "\n",
    "Using the Yelp data, supervised and unsupervised learning models were built to predict affluency or identify patterns in the data.\n",
    "\n",
    "The decision was made to also build an alternate model using select socio-economic metrics, which were completed level of education of a city's residents, population density, land area, property crime rate, and violent crime rate. \n",
    "\n",
    "The following packages were imported to conduct this analysis.\n",
    "\n",
    "|                |            |         |         |            |          |\n",
    "|----------------|------------|---------|---------|------------|----------|\n",
    "| Pandas         | Matplotlib | Seaborn | Sklearn | Numpy      | Requests |\n",
    "| Beautiful Soup | YelpAPI   | Regex   | Plotly  | Statsmodel | Scipy    |"
   ]
  },
  {
   "cell_type": "code",
   "execution_count": null,
   "metadata": {},
   "outputs": [],
   "source": []
  }
 ],
 "metadata": {
  "kernelspec": {
   "display_name": "Python [conda env:dsi] *",
   "language": "python",
   "name": "conda-env-dsi-py"
  },
  "language_info": {
   "codemirror_mode": {
    "name": "ipython",
    "version": 3
   },
   "file_extension": ".py",
   "mimetype": "text/x-python",
   "name": "python",
   "nbconvert_exporter": "python",
   "pygments_lexer": "ipython3",
   "version": "3.7.3"
  }
 },
 "nbformat": 4,
 "nbformat_minor": 2
}
