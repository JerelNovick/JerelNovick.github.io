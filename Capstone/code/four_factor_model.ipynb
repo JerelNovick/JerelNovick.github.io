{
 "cells": [
  {
   "cell_type": "markdown",
   "metadata": {},
   "source": [
    "# ![](https://ga-dash.s3.amazonaws.com/production/assets/logo-9f88ae6c9c3871690e33280fcf557f33.png) Four Factor Model\n",
    "\n",
    "## Contents\n",
    "[1. Feature Creation](#1.-Feature-Creation)<br>\n",
    "[2. Train-Test-Split](#2.-Train-Test-Split)<br>\n",
    "[3. Model Creation](#3.-Model-Creation)<br>"
   ]
  },
  {
   "cell_type": "code",
   "execution_count": 1,
   "metadata": {},
   "outputs": [],
   "source": [
    "import pandas as pd\n",
    "from sklearn.linear_model import LogisticRegression\n",
    "from sklearn.metrics import r2_score, accuracy_score, confusion_matrix\n",
    "import matplotlib.pyplot as plt\n",
    "import matplotlib.colors as mcolors\n",
    "import numpy as np\n",
    "import warnings\n",
    "warnings.filterwarnings(\"ignore\")\n",
    "pd.set_option('display.max_columns', 9999)\n",
    "pd.set_option('display.max_rows', 200)"
   ]
  },
  {
   "cell_type": "code",
   "execution_count": 3,
   "metadata": {},
   "outputs": [],
   "source": [
    "nba_data = pd.read_csv('../data/nba_data.csv')"
   ]
  },
  {
   "cell_type": "markdown",
   "metadata": {},
   "source": [
    "### 1. Feature Creation"
   ]
  },
  {
   "cell_type": "markdown",
   "metadata": {},
   "source": [
    "The Four Factor Model (https://www.basketball-reference.com/about/factors.html) is made up shooting, turnovers, rebounding and free throws.\n",
    "\n",
    "The true Four Factor Model uses weighted statistics for each of these components to calculate win percentages.  The initial model will be using the true components of these factors. In addition, the model will take into account the number of days off for each team and the whether a team is playing home or away."
   ]
  },
  {
   "cell_type": "code",
   "execution_count": 5,
   "metadata": {},
   "outputs": [],
   "source": [
    "features = ['teamFGA','teamFGM', 'teamTO','teamORB', 'teamDRB','teamFTA', 'teamFTM',\n",
    "           'teamLoc','teamDayOff','teamPF']"
   ]
  },
  {
   "cell_type": "markdown",
   "metadata": {},
   "source": [
    "### 2. Train-Test Split"
   ]
  },
  {
   "cell_type": "markdown",
   "metadata": {},
   "source": [
    "Instead of doing a traditional random train-test split, the split will be done based on the season.  The training set will include 4 seasons, 2012 to 2015, while the test set will include 2 seasons, 2016 and 2017.  This equates to a two-thirds/one-third."
   ]
  },
  {
   "cell_type": "code",
   "execution_count": 6,
   "metadata": {},
   "outputs": [],
   "source": [
    "train = nba_data.loc[(nba_data['seasonYR'] <= 2015)]\n",
    "test = nba_data.loc[(nba_data['seasonYR'] > 2015)]"
   ]
  },
  {
   "cell_type": "code",
   "execution_count": 7,
   "metadata": {},
   "outputs": [],
   "source": [
    "X_train = train[features]\n",
    "X_test = test[features]\n",
    "y_train = train['teamRslt']\n",
    "y_test = test['teamRslt']"
   ]
  },
  {
   "cell_type": "code",
   "execution_count": 8,
   "metadata": {},
   "outputs": [
    {
     "data": {
      "text/plain": [
       "(9838, 10)"
      ]
     },
     "execution_count": 8,
     "metadata": {},
     "output_type": "execute_result"
    }
   ],
   "source": [
    "X_train.shape"
   ]
  },
  {
   "cell_type": "code",
   "execution_count": 9,
   "metadata": {},
   "outputs": [
    {
     "data": {
      "text/plain": [
       "(4920, 10)"
      ]
     },
     "execution_count": 9,
     "metadata": {},
     "output_type": "execute_result"
    }
   ],
   "source": [
    "X_test.shape"
   ]
  },
  {
   "cell_type": "markdown",
   "metadata": {},
   "source": [
    "### 3. Model Creation"
   ]
  },
  {
   "cell_type": "code",
   "execution_count": 10,
   "metadata": {},
   "outputs": [],
   "source": [
    "lr = LogisticRegression()"
   ]
  },
  {
   "cell_type": "code",
   "execution_count": 11,
   "metadata": {},
   "outputs": [
    {
     "data": {
      "text/plain": [
       "LogisticRegression(C=1.0, class_weight=None, dual=False, fit_intercept=True,\n",
       "          intercept_scaling=1, max_iter=100, multi_class='warn',\n",
       "          n_jobs=None, penalty='l2', random_state=None, solver='warn',\n",
       "          tol=0.0001, verbose=0, warm_start=False)"
      ]
     },
     "execution_count": 11,
     "metadata": {},
     "output_type": "execute_result"
    }
   ],
   "source": [
    "lr.fit(X_train, y_train)"
   ]
  },
  {
   "cell_type": "code",
   "execution_count": 12,
   "metadata": {},
   "outputs": [],
   "source": [
    "preds = lr.predict(X_test)"
   ]
  },
  {
   "cell_type": "code",
   "execution_count": 13,
   "metadata": {},
   "outputs": [
    {
     "data": {
      "text/html": [
       "<div>\n",
       "<style scoped>\n",
       "    .dataframe tbody tr th:only-of-type {\n",
       "        vertical-align: middle;\n",
       "    }\n",
       "\n",
       "    .dataframe tbody tr th {\n",
       "        vertical-align: top;\n",
       "    }\n",
       "\n",
       "    .dataframe thead th {\n",
       "        text-align: right;\n",
       "    }\n",
       "</style>\n",
       "<table border=\"1\" class=\"dataframe\">\n",
       "  <thead>\n",
       "    <tr style=\"text-align: right;\">\n",
       "      <th></th>\n",
       "      <th>teamFGA</th>\n",
       "      <th>teamFGM</th>\n",
       "      <th>teamTO</th>\n",
       "      <th>teamORB</th>\n",
       "      <th>teamDRB</th>\n",
       "      <th>teamFTA</th>\n",
       "      <th>teamFTM</th>\n",
       "      <th>teamLoc</th>\n",
       "      <th>teamDayOff</th>\n",
       "      <th>teamPF</th>\n",
       "    </tr>\n",
       "  </thead>\n",
       "  <tbody>\n",
       "    <tr>\n",
       "      <th>0</th>\n",
       "      <td>-0.250592</td>\n",
       "      <td>0.407719</td>\n",
       "      <td>-0.204171</td>\n",
       "      <td>0.209989</td>\n",
       "      <td>0.255395</td>\n",
       "      <td>-0.090386</td>\n",
       "      <td>0.176902</td>\n",
       "      <td>0.436533</td>\n",
       "      <td>-0.017293</td>\n",
       "      <td>-0.081385</td>\n",
       "    </tr>\n",
       "  </tbody>\n",
       "</table>\n",
       "</div>"
      ],
      "text/plain": [
       "    teamFGA   teamFGM    teamTO   teamORB   teamDRB   teamFTA   teamFTM  \\\n",
       "0 -0.250592  0.407719 -0.204171  0.209989  0.255395 -0.090386  0.176902   \n",
       "\n",
       "    teamLoc  teamDayOff    teamPF  \n",
       "0  0.436533   -0.017293 -0.081385  "
      ]
     },
     "execution_count": 13,
     "metadata": {},
     "output_type": "execute_result"
    }
   ],
   "source": [
    "coefficients = pd.DataFrame(dict(zip(nba_data[features].columns,lr.coef_[0])),index=[0])\n",
    "coefficients"
   ]
  },
  {
   "cell_type": "code",
   "execution_count": 14,
   "metadata": {},
   "outputs": [
    {
     "data": {
      "text/plain": [
       "0.807684488717219"
      ]
     },
     "execution_count": 14,
     "metadata": {},
     "output_type": "execute_result"
    }
   ],
   "source": [
    "accuracy_score(y_train,lr.predict(X_train))"
   ]
  },
  {
   "cell_type": "code",
   "execution_count": 15,
   "metadata": {},
   "outputs": [
    {
     "data": {
      "text/plain": [
       "0.791260162601626"
      ]
     },
     "execution_count": 15,
     "metadata": {},
     "output_type": "execute_result"
    }
   ],
   "source": [
    "accuracy_score(y_test,lr.predict(X_test))"
   ]
  },
  {
   "cell_type": "code",
   "execution_count": 16,
   "metadata": {},
   "outputs": [],
   "source": [
    "test['predWin'] = preds"
   ]
  },
  {
   "cell_type": "code",
   "execution_count": 15,
   "metadata": {},
   "outputs": [],
   "source": [
    "r = test.iloc[::2,:]['teamRslt']\n",
    "p = test.iloc[::2,:]['predWin']"
   ]
  },
  {
   "cell_type": "code",
   "execution_count": 18,
   "metadata": {},
   "outputs": [],
   "source": [
    "cm = confusion_matrix(test['teamRslt'],test['predWin'])\n",
    "tn, fp, fn, tp = confusion_matrix(test['teamRslt'],test['predWin']).ravel()"
   ]
  },
  {
   "cell_type": "code",
   "execution_count": 19,
   "metadata": {},
   "outputs": [
    {
     "name": "stdout",
     "output_type": "stream",
     "text": [
      "True Negatives:  1782\n",
      "False Positives:  678\n",
      "False Negatives:  349\n",
      "True Positives:  2111\n"
     ]
    }
   ],
   "source": [
    "print('True Negatives: ', tn)\n",
    "print('False Positives: ', fp)\n",
    "print('False Negatives: ', fn)\n",
    "print('True Positives: ', tp)"
   ]
  },
  {
   "cell_type": "code",
   "execution_count": 20,
   "metadata": {
    "scrolled": true
   },
   "outputs": [
    {
     "name": "stdout",
     "output_type": "stream",
     "text": [
      "Accuracy Rate: 79.13 %\n",
      "Misclassification Rate: 20.87 %\n",
      "Sensitivy Rate: 85.81 %\n",
      "Specificity Rate: 72.44 %\n",
      "Precision Rate: 75.69 %\n"
     ]
    }
   ],
   "source": [
    "#Classification metrics\n",
    "accuracy = round((((tp+tn)/(tp+fn+tn+fp))*100),2)\n",
    "misclassification = round(((1 - (accuracy/100))*100),2)\n",
    "sensitivy = round(((tp/(tp+fn))*100),2)\n",
    "specificity = round(((tn/(tn+fp))*100),2)\n",
    "precision = round(((tp/(tp+fp))*100),2)\n",
    "print('Accuracy Rate:',accuracy,'%')\n",
    "print('Misclassification Rate:',misclassification,'%')\n",
    "print('Sensitivy Rate:',sensitivy,'%')\n",
    "print('Specificity Rate:',specificity,'%')\n",
    "print('Precision Rate:',precision,'%')"
   ]
  },
  {
   "cell_type": "code",
   "execution_count": 21,
   "metadata": {},
   "outputs": [
    {
     "data": {
      "text/html": [
       "<div>\n",
       "<style scoped>\n",
       "    .dataframe tbody tr th:only-of-type {\n",
       "        vertical-align: middle;\n",
       "    }\n",
       "\n",
       "    .dataframe tbody tr th {\n",
       "        vertical-align: top;\n",
       "    }\n",
       "\n",
       "    .dataframe thead th {\n",
       "        text-align: right;\n",
       "    }\n",
       "</style>\n",
       "<table border=\"1\" class=\"dataframe\">\n",
       "  <thead>\n",
       "    <tr style=\"text-align: right;\">\n",
       "      <th></th>\n",
       "      <th>pred negative</th>\n",
       "      <th>pred positive</th>\n",
       "    </tr>\n",
       "  </thead>\n",
       "  <tbody>\n",
       "    <tr>\n",
       "      <th>actual negative</th>\n",
       "      <td>1782</td>\n",
       "      <td>678</td>\n",
       "    </tr>\n",
       "    <tr>\n",
       "      <th>actual positive</th>\n",
       "      <td>349</td>\n",
       "      <td>2111</td>\n",
       "    </tr>\n",
       "  </tbody>\n",
       "</table>\n",
       "</div>"
      ],
      "text/plain": [
       "                 pred negative  pred positive\n",
       "actual negative           1782            678\n",
       "actual positive            349           2111"
      ]
     },
     "execution_count": 21,
     "metadata": {},
     "output_type": "execute_result"
    }
   ],
   "source": [
    "cm_df = pd.DataFrame(cm, columns=['pred negative', 'pred positive'], index=['actual negative', 'actual positive'])\n",
    "cm_df"
   ]
  },
  {
   "cell_type": "code",
   "execution_count": 22,
   "metadata": {},
   "outputs": [],
   "source": [
    "results = pd.DataFrame(test.groupby(['teamAbbr']).agg('sum')[['teamRslt','predWin']])\n",
    "results.sort_values(by=['teamRslt'], inplace=True)\n",
    "results = results.reset_index()"
   ]
  },
  {
   "cell_type": "code",
   "execution_count": 23,
   "metadata": {
    "scrolled": true
   },
   "outputs": [],
   "source": [
    "results['winDiff'] = results['teamRslt'] - results['predWin']"
   ]
  },
  {
   "cell_type": "code",
   "execution_count": 24,
   "metadata": {
    "scrolled": false
   },
   "outputs": [
    {
     "data": {
      "image/png": "[encoded data removed]",
      "text/plain": [
       "<Figure size 1440x1080 with 1 Axes>"
      ]
     },
     "metadata": {
      "needs_background": "light"
     },
     "output_type": "display_data"
    }
   ],
   "source": [
    "plt.figure(figsize=(20,15))\n",
    "plt.style.use('seaborn-whitegrid')\n",
    "plt.grid(b=None)\n",
    "plt.yticks(fontsize=25,color='red')\n",
    "plt.xticks(fontsize=25,color='red')\n",
    "\n",
    "\n",
    "clist = [(0, \"red\"), (0.125, \"red\"), (0.25, \"orange\"), (0.5, \"green\"), \n",
    "         (0.7, \"green\"), (0.75, \"blue\"), (1, \"blue\")]\n",
    "rvb = mcolors.LinearSegmentedColormap.from_list(\"\", clist)\n",
    "width = 0.5\n",
    "N = 60\n",
    "q = np.arange(N).astype(float)\n",
    "plt.barh(results['teamAbbr'],results['teamRslt'],color=rvb(q/N),align='edge');\n",
    "plt.barh(results['teamAbbr'],results['winDiff'],align='edge')\n",
    "plt.title('Actual Wins vs Difference In Predictions (Blue)',fontsize=25,color='red');"
   ]
  },
  {
   "cell_type": "code",
   "execution_count": 25,
   "metadata": {},
   "outputs": [],
   "source": [
    "#Create a second verison of the model\n",
    "features = ['teamEFG%','teamTO%','teamTREB%', 'teamFT%','teamDayOff','teamLoc','teamPF']"
   ]
  },
  {
   "cell_type": "code",
   "execution_count": 26,
   "metadata": {},
   "outputs": [],
   "source": [
    "X_train = train[features]\n",
    "X_test = test[features]\n",
    "y_train = train['teamRslt']\n",
    "y_test = test['teamRslt']"
   ]
  },
  {
   "cell_type": "code",
   "execution_count": 27,
   "metadata": {},
   "outputs": [],
   "source": [
    "lr = LogisticRegression()"
   ]
  },
  {
   "cell_type": "code",
   "execution_count": 28,
   "metadata": {},
   "outputs": [
    {
     "data": {
      "text/plain": [
       "LogisticRegression(C=1.0, class_weight=None, dual=False, fit_intercept=True,\n",
       "          intercept_scaling=1, max_iter=100, multi_class='warn',\n",
       "          n_jobs=None, penalty='l2', random_state=None, solver='warn',\n",
       "          tol=0.0001, verbose=0, warm_start=False)"
      ]
     },
     "execution_count": 28,
     "metadata": {},
     "output_type": "execute_result"
    }
   ],
   "source": [
    "lr.fit(X_train, y_train)"
   ]
  },
  {
   "cell_type": "code",
   "execution_count": 29,
   "metadata": {},
   "outputs": [],
   "source": [
    "preds_2 = lr.predict(X_test)"
   ]
  },
  {
   "cell_type": "code",
   "execution_count": 30,
   "metadata": {},
   "outputs": [
    {
     "data": {
      "text/html": [
       "<div>\n",
       "<style scoped>\n",
       "    .dataframe tbody tr th:only-of-type {\n",
       "        vertical-align: middle;\n",
       "    }\n",
       "\n",
       "    .dataframe tbody tr th {\n",
       "        vertical-align: top;\n",
       "    }\n",
       "\n",
       "    .dataframe thead th {\n",
       "        text-align: right;\n",
       "    }\n",
       "</style>\n",
       "<table border=\"1\" class=\"dataframe\">\n",
       "  <thead>\n",
       "    <tr style=\"text-align: right;\">\n",
       "      <th></th>\n",
       "      <th>teamEFG%</th>\n",
       "      <th>teamTO%</th>\n",
       "      <th>teamTREB%</th>\n",
       "      <th>teamFT%</th>\n",
       "      <th>teamDayOff</th>\n",
       "      <th>teamLoc</th>\n",
       "      <th>teamPF</th>\n",
       "    </tr>\n",
       "  </thead>\n",
       "  <tbody>\n",
       "    <tr>\n",
       "      <th>0</th>\n",
       "      <td>0.196692</td>\n",
       "      <td>-0.18434</td>\n",
       "      <td>0.155317</td>\n",
       "      <td>0.016133</td>\n",
       "      <td>0.004883</td>\n",
       "      <td>0.500365</td>\n",
       "      <td>-0.077276</td>\n",
       "    </tr>\n",
       "  </tbody>\n",
       "</table>\n",
       "</div>"
      ],
      "text/plain": [
       "   teamEFG%  teamTO%  teamTREB%   teamFT%  teamDayOff   teamLoc    teamPF\n",
       "0  0.196692 -0.18434   0.155317  0.016133    0.004883  0.500365 -0.077276"
      ]
     },
     "execution_count": 30,
     "metadata": {},
     "output_type": "execute_result"
    }
   ],
   "source": [
    "coefficients = pd.DataFrame(dict(zip(nba_data[features].columns,lr.coef_[0])),index=[0])\n",
    "coefficients"
   ]
  },
  {
   "cell_type": "code",
   "execution_count": 31,
   "metadata": {},
   "outputs": [
    {
     "data": {
      "text/plain": [
       "0.7684488717218947"
      ]
     },
     "execution_count": 31,
     "metadata": {},
     "output_type": "execute_result"
    }
   ],
   "source": [
    "accuracy_score(y_train,lr.predict(X_train))"
   ]
  },
  {
   "cell_type": "code",
   "execution_count": 32,
   "metadata": {},
   "outputs": [
    {
     "data": {
      "text/plain": [
       "0.7526422764227643"
      ]
     },
     "execution_count": 32,
     "metadata": {},
     "output_type": "execute_result"
    }
   ],
   "source": [
    "accuracy_score(y_test,lr.predict(X_test))"
   ]
  },
  {
   "cell_type": "code",
   "execution_count": 33,
   "metadata": {},
   "outputs": [],
   "source": [
    "test['predWin_2'] = preds_2"
   ]
  },
  {
   "cell_type": "code",
   "execution_count": 34,
   "metadata": {},
   "outputs": [],
   "source": [
    "r = test.iloc[::2,:]['teamRslt']\n",
    "p = test.iloc[::2,:]['predWin_2']"
   ]
  },
  {
   "cell_type": "code",
   "execution_count": 39,
   "metadata": {},
   "outputs": [],
   "source": [
    "cm = confusion_matrix(test['teamRslt'],test['predWin_2'])\n",
    "tn, fp, fn, tp = confusion_matrix(test['teamRslt'],test['predWin_2']).ravel()"
   ]
  },
  {
   "cell_type": "code",
   "execution_count": 40,
   "metadata": {},
   "outputs": [
    {
     "name": "stdout",
     "output_type": "stream",
     "text": [
      "True Negatives:  1577\n",
      "False Positives:  883\n",
      "False Negatives:  334\n",
      "True Positives:  2126\n"
     ]
    }
   ],
   "source": [
    "print('True Negatives: ', tn)\n",
    "print('False Positives: ', fp)\n",
    "print('False Negatives: ', fn)\n",
    "print('True Positives: ', tp)"
   ]
  },
  {
   "cell_type": "code",
   "execution_count": 41,
   "metadata": {
    "scrolled": true
   },
   "outputs": [
    {
     "name": "stdout",
     "output_type": "stream",
     "text": [
      "Accuracy Rate: 75.26 %\n",
      "Misclassification Rate: 24.74 %\n",
      "Sensitivy Rate: 86.42 %\n",
      "Specificity Rate: 64.11 %\n",
      "Precision Rate: 70.65 %\n"
     ]
    }
   ],
   "source": [
    "#Classification metrics\n",
    "accuracy = round((((tp+tn)/(tp+fn+tn+fp))*100),2)\n",
    "misclassification = round(((1 - (accuracy/100))*100),2)\n",
    "sensitivy = round(((tp/(tp+fn))*100),2)\n",
    "specificity = round(((tn/(tn+fp))*100),2)\n",
    "precision = round(((tp/(tp+fp))*100),2)\n",
    "print('Accuracy Rate:',accuracy,'%')\n",
    "print('Misclassification Rate:',misclassification,'%')\n",
    "print('Sensitivy Rate:',sensitivy,'%')\n",
    "print('Specificity Rate:',specificity,'%')\n",
    "print('Precision Rate:',precision,'%')"
   ]
  },
  {
   "cell_type": "code",
   "execution_count": 42,
   "metadata": {},
   "outputs": [
    {
     "data": {
      "text/html": [
       "<div>\n",
       "<style scoped>\n",
       "    .dataframe tbody tr th:only-of-type {\n",
       "        vertical-align: middle;\n",
       "    }\n",
       "\n",
       "    .dataframe tbody tr th {\n",
       "        vertical-align: top;\n",
       "    }\n",
       "\n",
       "    .dataframe thead th {\n",
       "        text-align: right;\n",
       "    }\n",
       "</style>\n",
       "<table border=\"1\" class=\"dataframe\">\n",
       "  <thead>\n",
       "    <tr style=\"text-align: right;\">\n",
       "      <th></th>\n",
       "      <th>pred negative</th>\n",
       "      <th>pred positive</th>\n",
       "    </tr>\n",
       "  </thead>\n",
       "  <tbody>\n",
       "    <tr>\n",
       "      <th>actual negative</th>\n",
       "      <td>1577</td>\n",
       "      <td>883</td>\n",
       "    </tr>\n",
       "    <tr>\n",
       "      <th>actual positive</th>\n",
       "      <td>334</td>\n",
       "      <td>2126</td>\n",
       "    </tr>\n",
       "  </tbody>\n",
       "</table>\n",
       "</div>"
      ],
      "text/plain": [
       "                 pred negative  pred positive\n",
       "actual negative           1577            883\n",
       "actual positive            334           2126"
      ]
     },
     "execution_count": 42,
     "metadata": {},
     "output_type": "execute_result"
    }
   ],
   "source": [
    "cm_df = pd.DataFrame(cm, columns=['pred negative', 'pred positive'], index=['actual negative', 'actual positive'])\n",
    "cm_df"
   ]
  },
  {
   "cell_type": "code",
   "execution_count": 43,
   "metadata": {},
   "outputs": [],
   "source": [
    "results2 = pd.DataFrame(test.groupby(['teamAbbr']).agg('sum')[['teamRslt','predWin_2']])\n",
    "results2.sort_values(by=['teamRslt'], inplace=True)\n",
    "results2 = results2.reset_index()"
   ]
  },
  {
   "cell_type": "code",
   "execution_count": 44,
   "metadata": {},
   "outputs": [],
   "source": [
    "results2['winDiff'] = results2['teamRslt'] - results2['predWin_2']"
   ]
  },
  {
   "cell_type": "code",
   "execution_count": 45,
   "metadata": {
    "scrolled": false
   },
   "outputs": [
    {
     "data": {
      "image/png": "[encoded data removed]",
      "text/plain": [
       "<Figure size 1440x1080 with 1 Axes>"
      ]
     },
     "metadata": {},
     "output_type": "display_data"
    }
   ],
   "source": [
    "plt.figure(figsize=(20,15))\n",
    "plt.style.use('seaborn-whitegrid')\n",
    "plt.grid(b=None)\n",
    "plt.yticks(fontsize=25,color='red')\n",
    "plt.xticks(fontsize=25,color='red')\n",
    "\n",
    "\n",
    "clist = [(0, \"red\"), (0.125, \"red\"), (0.25, \"orange\"), (0.5, \"green\"), \n",
    "         (0.7, \"green\"), (0.75, \"blue\"), (1, \"blue\")]\n",
    "rvb = mcolors.LinearSegmentedColormap.from_list(\"\", clist)\n",
    "width = 0.5\n",
    "N = 60\n",
    "q = np.arange(N).astype(float)\n",
    "plt.barh(results2['teamAbbr'],results2['teamRslt'],color=rvb(q/N),align='edge');\n",
    "plt.barh(results2['teamAbbr'],results2['winDiff'],align='edge')\n",
    "plt.title('Actual Wins vs Difference In Predictions (Blue)',fontsize=25,color='red');"
   ]
  },
  {
   "cell_type": "code",
   "execution_count": null,
   "metadata": {},
   "outputs": [],
   "source": []
  }
 ],
 "metadata": {
  "kernelspec": {
   "display_name": "Python [conda env:dsi] *",
   "language": "python",
   "name": "conda-env-dsi-py"
  },
  "language_info": {
   "codemirror_mode": {
    "name": "ipython",
    "version": 3
   },
   "file_extension": ".py",
   "mimetype": "text/x-python",
   "name": "python",
   "nbconvert_exporter": "python",
   "pygments_lexer": "ipython3",
   "version": "3.7.3"
  }
 },
 "nbformat": 4,
 "nbformat_minor": 2
}
